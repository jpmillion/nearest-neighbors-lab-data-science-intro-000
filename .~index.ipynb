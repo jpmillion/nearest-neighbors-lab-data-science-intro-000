{
 "cells": [
  {
   "cell_type": "markdown",
   "metadata": {},
   "source": [
    "# Nearest Neighbors Lab"
   ]
  },
  {
   "cell_type": "markdown",
   "metadata": {},
   "source": [
    "### Introduction\n",
    "\n",
    "In this lab, you apply nearest neighbors technique to help a taxi company predict the length of their rides.  Imagine that we are hired to consult for LiftOff, a limo and taxi service that is just opening up in NYC.  Liftoff wants it's taxi drivers to target longer rides, as the longer the ride the more money it makes.  LiftOff has the following theory:\n",
    "\n",
    "* the pickup location of a taxi ride can help predict the length of the ride.  \n",
    "\n",
    "\n",
    "\n",
    "LiftOff asks us to do some analysis to write a function that will allow it to **predict the length of a taxi ride for any given location **.\n",
    "\n",
    "Our technique will be the following:\n",
    "  * **Collect** Obtain the data containing all of the taxi information, and only select the attributes of taxi trips that we need \n",
    "  * ** Explore ** Examine the attributes of our data, and plot some of our data on a map\n",
    "  * ** Train ** Write our nearest neighbors formula, and change the number of nearby trips to predict the length of a new trip\n",
    "  * ** Predict ** Use our function to predict trip lengths of new locations"
   ]
  },
  {
   "cell_type": "markdown",
   "metadata": {},
   "source": [
    "### Collect and Explore the data"
   ]
  },
  {
   "cell_type": "markdown",
   "metadata": {},
   "source": [
    "#### Collect the Data"
   ]
  },
  {
   "cell_type": "markdown",
   "metadata": {},
   "source": [
    "Luckily for us, [NYC Open Data](https://opendata.cityofnewyork.us/) collects information about NYC taxi trips and provides this data on [its website](https://data.cityofnewyork.us/Transportation/2014-Yellow-Taxi-Trip-Data/gn7m-em8n)."
   ]
  },
  {
   "cell_type": "markdown",
   "metadata": {},
   "source": [
    "![](./nyc-taxi.png)"
   ]
  },
  {
   "cell_type": "markdown",
   "metadata": {},
   "source": [
    "For your reading pleasure, the data has already been downloaded into the [trips.json](https://github.com/learn-co-curriculum/nearest-neighbors-lab/blob/master/trips.json) file in this lab which you can find here.  We'll use Python's `json` library to take the data from the `trips.json` file and store it as a variable in our notebook."
   ]
  },
  {
   "cell_type": "code",
   "execution_count": 4,
   "metadata": {},
   "outputs": [],
   "source": [
    "import json\n",
    "# First, read the file\n",
    "trips_file = open('trips.json')\n",
    "# Then, convert contents to list of dictionaries \n",
    "trips = json.load(trips_file)"
   ]
  },
  {
   "cell_type": "markdown",
   "metadata": {},
   "source": [
    "> Press shift + enter"
   ]
  },
  {
   "cell_type": "markdown",
   "metadata": {},
   "source": [
    "#### Explore the data"
   ]
  },
  {
   "cell_type": "markdown",
   "metadata": {},
   "source": [
    "The next step is to explore the data.  First, let's see how many trips we have."
   ]
  },
  {
   "cell_type": "code",
   "execution_count": 5,
   "metadata": {},
   "outputs": [
    {
     "data": {
      "text/plain": [
       "1000"
      ]
     },
     "execution_count": 5,
     "metadata": {},
     "output_type": "execute_result"
    }
   ],
   "source": [
    "len(trips)"
   ]
  },
  {
   "cell_type": "markdown",
   "metadata": {},
   "source": [
    "Not bad at all.  Now let's see what each individual trip looks like.  Each trip is a dictionary, so we can see the attributes of each trip with the `keys` function."
   ]
  },
  {
   "cell_type": "code",
   "execution_count": 6,
   "metadata": {
    "scrolled": true
   },
   "outputs": [
    {
     "data": {
      "text/plain": [
       "dict_keys(['dropoff_datetime', 'dropoff_latitude', 'dropoff_longitude', 'fare_amount', 'imp_surcharge', 'mta_tax', 'passenger_count', 'payment_type', 'pickup_datetime', 'pickup_latitude', 'pickup_longitude', 'rate_code', 'tip_amount', 'tolls_amount', 'total_amount', 'trip_distance', 'vendor_id'])"
      ]
     },
     "execution_count": 6,
     "metadata": {},
     "output_type": "execute_result"
    }
   ],
   "source": [
    "trips[0].keys()"
   ]
  },
  {
   "cell_type": "markdown",
   "metadata": {},
   "source": [
    "#### Limit our data"
   ]
  },
  {
   "cell_type": "markdown",
   "metadata": {},
   "source": [
    "Ok, now that we have explored some of our data, let's begin to think through what data is relevant for our task."
   ]
  },
  {
   "cell_type": "markdown",
   "metadata": {
    "collapsed": true
   },
   "source": [
    "Remember that our task is to **use the trip location to predict the length of a trip**.  So let's select the `pickup_latitude`, `pickup_longitude`, and `trip_distance` from each trip.  That will give us the trip location and related `trip_distance` for each trip.  Then based on these **actual** trip distances we can use nearest neighbors to predict an **expected** trip distance for a trip, provided an **actual** location."
   ]
  },
  {
   "cell_type": "markdown",
   "metadata": {},
   "source": [
    "** Add in about trip distance ** "
   ]
  },
  {
   "cell_type": "markdown",
   "metadata": {},
   "source": [
    "Write a function called `parse_trips(trips)` that returns a list of the trips with only the following attributes: \n",
    "* `trip_distance`\n",
    "* `pickup_latitude`\n",
    "* `pickup_longitude`"
   ]
  },
  {
   "cell_type": "code",
   "execution_count": 7,
   "metadata": {},
   "outputs": [],
   "source": [
    "def parse_trips(trips):\n",
    "    new = []\n",
    "    for trip in trips:\n",
    "        d = {'pickup_latitude': trip['pickup_latitude'], 'pickup_longitude': trip['pickup_longitude'], 'trip_distance': trip['trip_distance']}\n",
    "        new.append(d)\n",
    "    return new"
   ]
  },
  {
   "cell_type": "code",
   "execution_count": 8,
   "metadata": {},
   "outputs": [
    {
     "data": {
      "text/plain": [
       "{'pickup_latitude': '40.64499',\n",
       " 'pickup_longitude': '-73.781149999999997',\n",
       " 'trip_distance': '18.379999999999999'}"
      ]
     },
     "execution_count": 8,
     "metadata": {},
     "output_type": "execute_result"
    }
   ],
   "source": [
    "parsed_trips = parse_trips(trips)\n",
    "parsed_trips and parsed_trips[0]\n",
    "\n",
    "# {'pickup_latitude': '40.64499',\n",
    "#  'pickup_longitude': '-73.78115',\n",
    "#  'trip_distance': '18.38'}"
   ]
  },
  {
   "cell_type": "markdown",
   "metadata": {},
   "source": [
    "Now, there's just one change to make.  If you look at one of the trips, all of the values are strings.  Let's change them to be floats."
   ]
  },
  {
   "cell_type": "code",
   "execution_count": 9,
   "metadata": {},
   "outputs": [],
   "source": [
    "def float_values(trips):    \n",
    "    values = []\n",
    "    for trip in trips:\n",
    "        values.append({'pickup_latitude': float(trip['pickup_latitude']), 'pickup_longitude': float(trip['pickup_longitude']), 'trip_distance': float(trip['trip_distance'])})\n",
    "    return values"
   ]
  },
  {
   "cell_type": "code",
   "execution_count": 10,
   "metadata": {},
   "outputs": [],
   "source": [
    "cleaned_trips = float_values(parsed_trips)"
   ]
  },
  {
   "cell_type": "code",
   "execution_count": 11,
   "metadata": {},
   "outputs": [
    {
     "data": {
      "text/plain": [
       "{'pickup_latitude': 40.64499,\n",
       " 'pickup_longitude': -73.78115,\n",
       " 'trip_distance': 18.38}"
      ]
     },
     "execution_count": 11,
     "metadata": {},
     "output_type": "execute_result"
    }
   ],
   "source": [
    "cleaned_trips[0]\n",
    "\n",
    "# {'pickup_latitude': 40.64499,\n",
    "#  'pickup_longitude': -73.78115,\n",
    "#  'trip_distance': 18.38}"
   ]
  },
  {
   "cell_type": "markdown",
   "metadata": {},
   "source": [
    "### Exploring the Data"
   ]
  },
  {
   "cell_type": "markdown",
   "metadata": {},
   "source": [
    "Now that we have paired down our data, let's get a sense of our trip data.  We can use the `folium` Python library to plot a map of Manhattan, and our data.  First we must import `folium`, and then use the `Map` function to pass through a `location`, and `zoom_start`.  If a map isn't showing up below, copy and paste the command `pip install -r requirements.txt` into your terminal to install `folium` then try again."
   ]
  },
  {
   "cell_type": "code",
   "execution_count": 12,
   "metadata": {},
   "outputs": [],
   "source": [
    "import folium\n",
    "manhattan_map = folium.Map(location=[40.7589, -73.9851], zoom_start=11)"
   ]
  },
  {
   "cell_type": "code",
   "execution_count": 13,
   "metadata": {
    "scrolled": true
   },
   "outputs": [
    {
     "data": {
      "text/html": [
       "<div style=\"width:100%;\"><div style=\"position:relative;width:100%;height:0;padding-bottom:60%;\"><iframe src=\"data:text/html;charset=utf-8;base64,PCFET0NUWVBFIGh0bWw+CjxoZWFkPiAgICAKICAgIDxtZXRhIGh0dHAtZXF1aXY9ImNvbnRlbnQtdHlwZSIgY29udGVudD0idGV4dC9odG1sOyBjaGFyc2V0PVVURi04IiAvPgogICAgCiAgICAgICAgPHNjcmlwdD4KICAgICAgICAgICAgTF9OT19UT1VDSCA9IGZhbHNlOwogICAgICAgICAgICBMX0RJU0FCTEVfM0QgPSBmYWxzZTsKICAgICAgICA8L3NjcmlwdD4KICAgIAogICAgPHNjcmlwdCBzcmM9Imh0dHBzOi8vY2RuLmpzZGVsaXZyLm5ldC9ucG0vbGVhZmxldEAxLjUuMS9kaXN0L2xlYWZsZXQuanMiPjwvc2NyaXB0PgogICAgPHNjcmlwdCBzcmM9Imh0dHBzOi8vY29kZS5qcXVlcnkuY29tL2pxdWVyeS0xLjEyLjQubWluLmpzIj48L3NjcmlwdD4KICAgIDxzY3JpcHQgc3JjPSJodHRwczovL21heGNkbi5ib290c3RyYXBjZG4uY29tL2Jvb3RzdHJhcC8zLjIuMC9qcy9ib290c3RyYXAubWluLmpzIj48L3NjcmlwdD4KICAgIDxzY3JpcHQgc3JjPSJodHRwczovL2NkbmpzLmNsb3VkZmxhcmUuY29tL2FqYXgvbGlicy9MZWFmbGV0LmF3ZXNvbWUtbWFya2Vycy8yLjAuMi9sZWFmbGV0LmF3ZXNvbWUtbWFya2Vycy5qcyI+PC9zY3JpcHQ+CiAgICA8bGluayByZWw9InN0eWxlc2hlZXQiIGhyZWY9Imh0dHBzOi8vY2RuLmpzZGVsaXZyLm5ldC9ucG0vbGVhZmxldEAxLjUuMS9kaXN0L2xlYWZsZXQuY3NzIi8+CiAgICA8bGluayByZWw9InN0eWxlc2hlZXQiIGhyZWY9Imh0dHBzOi8vbWF4Y2RuLmJvb3RzdHJhcGNkbi5jb20vYm9vdHN0cmFwLzMuMi4wL2Nzcy9ib290c3RyYXAubWluLmNzcyIvPgogICAgPGxpbmsgcmVsPSJzdHlsZXNoZWV0IiBocmVmPSJodHRwczovL21heGNkbi5ib290c3RyYXBjZG4uY29tL2Jvb3RzdHJhcC8zLjIuMC9jc3MvYm9vdHN0cmFwLXRoZW1lLm1pbi5jc3MiLz4KICAgIDxsaW5rIHJlbD0ic3R5bGVzaGVldCIgaHJlZj0iaHR0cHM6Ly9tYXhjZG4uYm9vdHN0cmFwY2RuLmNvbS9mb250LWF3ZXNvbWUvNC42LjMvY3NzL2ZvbnQtYXdlc29tZS5taW4uY3NzIi8+CiAgICA8bGluayByZWw9InN0eWxlc2hlZXQiIGhyZWY9Imh0dHBzOi8vY2RuanMuY2xvdWRmbGFyZS5jb20vYWpheC9saWJzL0xlYWZsZXQuYXdlc29tZS1tYXJrZXJzLzIuMC4yL2xlYWZsZXQuYXdlc29tZS1tYXJrZXJzLmNzcyIvPgogICAgPGxpbmsgcmVsPSJzdHlsZXNoZWV0IiBocmVmPSJodHRwczovL3Jhd2Nkbi5naXRoYWNrLmNvbS9weXRob24tdmlzdWFsaXphdGlvbi9mb2xpdW0vbWFzdGVyL2ZvbGl1bS90ZW1wbGF0ZXMvbGVhZmxldC5hd2Vzb21lLnJvdGF0ZS5jc3MiLz4KICAgIDxzdHlsZT5odG1sLCBib2R5IHt3aWR0aDogMTAwJTtoZWlnaHQ6IDEwMCU7bWFyZ2luOiAwO3BhZGRpbmc6IDA7fTwvc3R5bGU+CiAgICA8c3R5bGU+I21hcCB7cG9zaXRpb246YWJzb2x1dGU7dG9wOjA7Ym90dG9tOjA7cmlnaHQ6MDtsZWZ0OjA7fTwvc3R5bGU+CiAgICAKICAgICAgICAgICAgPG1ldGEgbmFtZT0idmlld3BvcnQiIGNvbnRlbnQ9IndpZHRoPWRldmljZS13aWR0aCwKICAgICAgICAgICAgICAgIGluaXRpYWwtc2NhbGU9MS4wLCBtYXhpbXVtLXNjYWxlPTEuMCwgdXNlci1zY2FsYWJsZT1ubyIgLz4KICAgICAgICAgICAgPHN0eWxlPgogICAgICAgICAgICAgICAgI21hcF9hZTc1NmQ5Yjg1YTY0MTBmYjc0NTEwMzkwNjc4NmJmMiB7CiAgICAgICAgICAgICAgICAgICAgcG9zaXRpb246IHJlbGF0aXZlOwogICAgICAgICAgICAgICAgICAgIHdpZHRoOiAxMDAuMCU7CiAgICAgICAgICAgICAgICAgICAgaGVpZ2h0OiAxMDAuMCU7CiAgICAgICAgICAgICAgICAgICAgbGVmdDogMC4wJTsKICAgICAgICAgICAgICAgICAgICB0b3A6IDAuMCU7CiAgICAgICAgICAgICAgICB9CiAgICAgICAgICAgIDwvc3R5bGU+CiAgICAgICAgCjwvaGVhZD4KPGJvZHk+ICAgIAogICAgCiAgICAgICAgICAgIDxkaXYgY2xhc3M9ImZvbGl1bS1tYXAiIGlkPSJtYXBfYWU3NTZkOWI4NWE2NDEwZmI3NDUxMDM5MDY3ODZiZjIiID48L2Rpdj4KICAgICAgICAKPC9ib2R5Pgo8c2NyaXB0PiAgICAKICAgIAogICAgICAgICAgICB2YXIgbWFwX2FlNzU2ZDliODVhNjQxMGZiNzQ1MTAzOTA2Nzg2YmYyID0gTC5tYXAoCiAgICAgICAgICAgICAgICAibWFwX2FlNzU2ZDliODVhNjQxMGZiNzQ1MTAzOTA2Nzg2YmYyIiwKICAgICAgICAgICAgICAgIHsKICAgICAgICAgICAgICAgICAgICBjZW50ZXI6IFs0MC43NTg5LCAtNzMuOTg1MV0sCiAgICAgICAgICAgICAgICAgICAgY3JzOiBMLkNSUy5FUFNHMzg1NywKICAgICAgICAgICAgICAgICAgICB6b29tOiAxMSwKICAgICAgICAgICAgICAgICAgICB6b29tQ29udHJvbDogdHJ1ZSwKICAgICAgICAgICAgICAgICAgICBwcmVmZXJDYW52YXM6IGZhbHNlLAogICAgICAgICAgICAgICAgfQogICAgICAgICAgICApOwoKICAgICAgICAgICAgCgogICAgICAgIAogICAgCiAgICAgICAgICAgIHZhciB0aWxlX2xheWVyX2EwZGY1YmY2MmYxMDRmYjU5YTk4OWMxNzNiOTZhNjc3ID0gTC50aWxlTGF5ZXIoCiAgICAgICAgICAgICAgICAiaHR0cHM6Ly97c30udGlsZS5vcGVuc3RyZWV0bWFwLm9yZy97en0ve3h9L3t5fS5wbmciLAogICAgICAgICAgICAgICAgeyJhdHRyaWJ1dGlvbiI6ICJEYXRhIGJ5IFx1MDAyNmNvcHk7IFx1MDAzY2EgaHJlZj1cImh0dHA6Ly9vcGVuc3RyZWV0bWFwLm9yZ1wiXHUwMDNlT3BlblN0cmVldE1hcFx1MDAzYy9hXHUwMDNlLCB1bmRlciBcdTAwM2NhIGhyZWY9XCJodHRwOi8vd3d3Lm9wZW5zdHJlZXRtYXAub3JnL2NvcHlyaWdodFwiXHUwMDNlT0RiTFx1MDAzYy9hXHUwMDNlLiIsICJkZXRlY3RSZXRpbmEiOiBmYWxzZSwgIm1heE5hdGl2ZVpvb20iOiAxOCwgIm1heFpvb20iOiAxOCwgIm1pblpvb20iOiAwLCAibm9XcmFwIjogZmFsc2UsICJvcGFjaXR5IjogMSwgInN1YmRvbWFpbnMiOiAiYWJjIiwgInRtcyI6IGZhbHNlfQogICAgICAgICAgICApLmFkZFRvKG1hcF9hZTc1NmQ5Yjg1YTY0MTBmYjc0NTEwMzkwNjc4NmJmMik7CiAgICAgICAgCjwvc2NyaXB0Pg==\" style=\"position:absolute;width:100%;height:100%;left:0;top:0;border:none !important;\" allowfullscreen webkitallowfullscreen mozallowfullscreen></iframe></div></div>"
      ],
      "text/plain": [
       "<folium.folium.Map at 0x7fa810079c50>"
      ]
     },
     "execution_count": 13,
     "metadata": {},
     "output_type": "execute_result"
    }
   ],
   "source": [
    "manhattan_map"
   ]
  },
  {
   "cell_type": "markdown",
   "metadata": {},
   "source": [
    "Ok, now let's see how we could add a dot to mark a specific location.  We'll start with Times Square."
   ]
  },
  {
   "cell_type": "code",
   "execution_count": 14,
   "metadata": {},
   "outputs": [
    {
     "data": {
      "text/plain": [
       "<folium.vector_layers.CircleMarker at 0x7fa7e4ce1860>"
      ]
     },
     "execution_count": 14,
     "metadata": {},
     "output_type": "execute_result"
    }
   ],
   "source": [
    "marker = folium.CircleMarker(location = [40.7589, -73.9851], radius=10)\n",
    "marker.add_to(manhattan_map)"
   ]
  },
  {
   "cell_type": "markdown",
   "metadata": {},
   "source": [
    "Above, we first create a marker.  Then we add that circle marker to the `manhattan_map` we created earlier. "
   ]
  },
  {
   "cell_type": "code",
   "execution_count": 15,
   "metadata": {
    "scrolled": false
   },
   "outputs": [
    {
     "data": {
      "text/html": [
       "<div style=\"width:100%;\"><div style=\"position:relative;width:100%;height:0;padding-bottom:60%;\"><iframe src=\"data:text/html;charset=utf-8;base64,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\" style=\"position:absolute;width:100%;height:100%;left:0;top:0;border:none !important;\" allowfullscreen webkitallowfullscreen mozallowfullscreen></iframe></div></div>"
      ],
      "text/plain": [
       "<folium.folium.Map at 0x7fa810079c50>"
      ]
     },
     "execution_count": 15,
     "metadata": {},
     "output_type": "execute_result"
    }
   ],
   "source": [
    "manhattan_map"
   ]
  },
  {
   "cell_type": "markdown",
   "metadata": {},
   "source": [
    "Do you see that blue dot near Time's Square?  That is our marker.  \n",
    "\n",
    "So now that we can plot one marker on a map, we should have a sense of how we can plot many markers on a map to display our taxi ride data.  We simply plot a map, and then we add a marker for each location of a taxi trip.\n",
    "\n",
    "Now let's write some functions to allow us to plot maps and add markers a little more easily.  "
   ]
  },
  {
   "cell_type": "markdown",
   "metadata": {},
   "source": [
    "#### Writing some map plotting functions"
   ]
  },
  {
   "cell_type": "markdown",
   "metadata": {},
   "source": [
    "As a first step towards this, note that the functions to create both a marker and map each take in a location as two element list, representing the latitude and longitude values.  Take another look:\n",
    "\n",
    "```python\n",
    "marker = folium.CircleMarker(location = [40.7589, -73.9851])\n",
    "manhattan_map = folium.Map(location=[40.7589, -73.9851])\n",
    "```\n",
    "\n",
    "So let's write a function called to create this two element list from a trip.  Write a function called `location` that  takes in a trip as an argument and returns a list where the first element is the latitude and the second is the longitude.  Remember that a location looks like the following:"
   ]
  },
  {
   "cell_type": "code",
   "execution_count": 16,
   "metadata": {},
   "outputs": [
    {
     "data": {
      "text/plain": [
       "{'pickup_latitude': 40.64499,\n",
       " 'pickup_longitude': -73.78115,\n",
       " 'trip_distance': 18.38}"
      ]
     },
     "execution_count": 16,
     "metadata": {},
     "output_type": "execute_result"
    }
   ],
   "source": [
    "first_trip = {'pickup_latitude': 40.64499, 'pickup_longitude': -73.78115,  'trip_distance': 18.38}\n",
    "first_trip"
   ]
  },
  {
   "cell_type": "code",
   "execution_count": 17,
   "metadata": {},
   "outputs": [],
   "source": [
    "def location(trip):\n",
    "    return [trip['pickup_latitude'], trip['pickup_longitude']]\n",
    "    "
   ]
  },
  {
   "cell_type": "code",
   "execution_count": 18,
   "metadata": {},
   "outputs": [
    {
     "data": {
      "text/plain": [
       "[40.64499, -73.78115]"
      ]
     },
     "execution_count": 18,
     "metadata": {},
     "output_type": "execute_result"
    }
   ],
   "source": [
    "first_location = location(first_trip) # [40.64499, -73.78115]\n",
    "first_location # [40.64499, -73.78115]"
   ]
  },
  {
   "cell_type": "markdown",
   "metadata": {},
   "source": [
    "Ok, now that we can turn a trip into a location, let's turn a location into a marker.  Write a function called `to_marker` that takes in a location (in the form of a list) as an argument, and returns a folium `circleMarker` for that location.  The radius of the marker should always equal 6."
   ]
  },
  {
   "cell_type": "code",
   "execution_count": 19,
   "metadata": {},
   "outputs": [],
   "source": [
    "def to_marker(location):\n",
    "    return folium.CircleMarker(location, radius=6)\n"
   ]
  },
  {
   "cell_type": "code",
   "execution_count": 23,
   "metadata": {},
   "outputs": [
    {
     "data": {
      "text/plain": [
       "[40.7589, -73.9851]"
      ]
     },
     "execution_count": 23,
     "metadata": {},
     "output_type": "execute_result"
    }
   ],
   "source": [
    "import json\n",
    "times_square_marker = to_marker([40.7589, -73.9851])\n",
    "\n",
    "times_square_marker and times_square_marker.location # [40.7589, -73.9851]\n",
    "times_square_marker and json.loads(str(times_square_marker.options['radius'])) # 6\n",
    "times_square_marker and times_square_marker.location # [40.7589, -73.9851]"
   ]
  },
  {
   "cell_type": "markdown",
   "metadata": {},
   "source": [
    "Ok, now that we know how to produce a single marker, let's write a function to produce lots.  We can write a function called `markers_from_trips` that takes in a list of trips, and returns a marker object for each trip.  "
   ]
  },
  {
   "cell_type": "code",
   "execution_count": 30,
   "metadata": {},
   "outputs": [],
   "source": [
    "def markers_from_trips(trips):\n",
    "    return list(map(lambda trip: to_marker(location(trip)), trips))"
   ]
  },
  {
   "cell_type": "code",
   "execution_count": 31,
   "metadata": {},
   "outputs": [],
   "source": [
    "trip_markers = markers_from_trips(cleaned_trips)"
   ]
  },
  {
   "cell_type": "code",
   "execution_count": 32,
   "metadata": {},
   "outputs": [
    {
     "data": {
      "text/plain": [
       "[{'pickup_latitude': 40.64499,\n",
       "  'pickup_longitude': -73.78115,\n",
       "  'trip_distance': 18.38},\n",
       " {'pickup_latitude': 40.766931,\n",
       "  'pickup_longitude': -73.982098,\n",
       "  'trip_distance': 1.3},\n",
       " {'pickup_latitude': 40.77773,\n",
       "  'pickup_longitude': -73.951902,\n",
       "  'trip_distance': 4.5},\n",
       " {'pickup_latitude': 40.795678,\n",
       "  'pickup_longitude': -73.971049,\n",
       "  'trip_distance': 2.4}]"
      ]
     },
     "execution_count": 32,
     "metadata": {},
     "output_type": "execute_result"
    }
   ],
   "source": [
    "cleaned_trips[0:4]"
   ]
  },
  {
   "cell_type": "code",
   "execution_count": 33,
   "metadata": {},
   "outputs": [
    {
     "data": {
      "text/plain": [
       "[[40.64499, -73.78115],\n",
       " [40.766931, -73.982098],\n",
       " [40.77773, -73.951902],\n",
       " [40.795678, -73.971049]]"
      ]
     },
     "execution_count": 33,
     "metadata": {},
     "output_type": "execute_result"
    }
   ],
   "source": [
    "trip_markers and len(trip_markers) # 1000\n",
    "\n",
    "list(map(lambda marker: marker.location, trip_markers[0:4]))\n",
    "# [[40.64499, -73.78115],\n",
    "#  [40.766931, -73.982098],\n",
    "#  [40.77773, -73.951902],\n",
    "#  [40.795678, -73.971049]]"
   ]
  },
  {
   "cell_type": "markdown",
   "metadata": {},
   "source": [
    "Ok, now that we have a function that creates locations, and a function that creates markers, it is time to write a function to plot a map. \n",
    "\n",
    "Write a function called `map_from` that, provided the first argument of a list location and second argument an integer representing the `zoom_start`, returns a `folium` map the corresponding location and `zoom_start` attributes.\n",
    "\n",
    "> Hint: The following is how to write a map with folium:\n",
    "> ```python \n",
    "    folium.Map(location=location, zoom_start=zoom_amount)\n",
    "> ```"
   ]
  },
  {
   "cell_type": "code",
   "execution_count": 38,
   "metadata": {},
   "outputs": [],
   "source": [
    "def map_from(location, zoom_amount):\n",
    "    return folium.Map(location, zoom_start=zoom_amount)"
   ]
  },
  {
   "cell_type": "code",
   "execution_count": 41,
   "metadata": {},
   "outputs": [
    {
     "data": {
      "text/plain": [
       "[40.7589, -73.9851]"
      ]
     },
     "execution_count": 41,
     "metadata": {},
     "output_type": "execute_result"
    }
   ],
   "source": [
    "times_square_map = map_from([40.7589, -73.9851], 15)\n",
    "times_square_map and times_square_map.location # [40.7589, -73.9851]\n",
    "#times_square_map and times_square_map.zoom_start # 15"
   ]
  },
  {
   "cell_type": "code",
   "execution_count": 42,
   "metadata": {
    "scrolled": true
   },
   "outputs": [
    {
     "data": {
      "text/html": [
       "<div style=\"width:100%;\"><div style=\"position:relative;width:100%;height:0;padding-bottom:60%;\"><iframe src=\"data:text/html;charset=utf-8;base64,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\" style=\"position:absolute;width:100%;height:100%;left:0;top:0;border:none !important;\" allowfullscreen webkitallowfullscreen mozallowfullscreen></iframe></div></div>"
      ],
      "text/plain": [
       "<folium.folium.Map at 0x7fa7e4b809e8>"
      ]
     },
     "execution_count": 42,
     "metadata": {},
     "output_type": "execute_result"
    }
   ],
   "source": [
    "times_square_marker and times_square_marker.add_to(times_square_map)\n",
    "times_square_map"
   ]
  },
  {
   "cell_type": "markdown",
   "metadata": {},
   "source": [
    "Now that we have a marker and a map, now let's write a function that adds a lot of markers to a map.  This function should add each marker in the list to the map object then return the updated map object."
   ]
  },
  {
   "cell_type": "code",
   "execution_count": 43,
   "metadata": {},
   "outputs": [],
   "source": [
    "manhattan_map = map_from([40.7589, -73.9851], 13)"
   ]
  },
  {
   "cell_type": "code",
   "execution_count": 51,
   "metadata": {},
   "outputs": [],
   "source": [
    "def add_markers(markers, map_obj):\n",
    "    list(map(lambda marker: marker.add_to(map_obj), markers))\n",
    "    return map_obj"
   ]
  },
  {
   "cell_type": "code",
   "execution_count": 52,
   "metadata": {
    "scrolled": false
   },
   "outputs": [],
   "source": [
    "map_with_markers = add_markers(trip_markers, manhattan_map)"
   ]
  },
  {
   "cell_type": "code",
   "execution_count": 50,
   "metadata": {},
   "outputs": [
    {
     "data": {
      "text/plain": [
       "[<folium.vector_layers.CircleMarker at 0x7fa7e4ce1cc0>,\n",
       " <folium.vector_layers.CircleMarker at 0x7fa7e4ce14e0>,\n",
       " <folium.vector_layers.CircleMarker at 0x7fa7e4ce1710>,\n",
       " <folium.vector_layers.CircleMarker at 0x7fa7e4ce3080>,\n",
       " <folium.vector_layers.CircleMarker at 0x7fa7e4cccc88>,\n",
       " <folium.vector_layers.CircleMarker at 0x7fa7e4ce3240>,\n",
       " <folium.vector_layers.CircleMarker at 0x7fa7e4ce3390>,\n",
       " <folium.vector_layers.CircleMarker at 0x7fa7e4ce32e8>,\n",
       " <folium.vector_layers.CircleMarker at 0x7fa7e4ce3278>,\n",
       " <folium.vector_layers.CircleMarker at 0x7fa7e4ce3128>,\n",
       " <folium.vector_layers.CircleMarker at 0x7fa7e4ce3550>,\n",
       " <folium.vector_layers.CircleMarker at 0x7fa7e4ce3320>,\n",
       " <folium.vector_layers.CircleMarker at 0x7fa7e4ce3630>,\n",
       " <folium.vector_layers.CircleMarker at 0x7fa7e4ce3048>,\n",
       " <folium.vector_layers.CircleMarker at 0x7fa7e4ce3588>,\n",
       " <folium.vector_layers.CircleMarker at 0x7fa7e4ce1ef0>,\n",
       " <folium.vector_layers.CircleMarker at 0x7fa7e4ce11d0>,\n",
       " <folium.vector_layers.CircleMarker at 0x7fa7e4ce34a8>,\n",
       " <folium.vector_layers.CircleMarker at 0x7fa7e4ce3160>,\n",
       " <folium.vector_layers.CircleMarker at 0x7fa7e4ce35c0>,\n",
       " <folium.vector_layers.CircleMarker at 0x7fa7e4ce3198>,\n",
       " <folium.vector_layers.CircleMarker at 0x7fa7e4ce33c8>,\n",
       " <folium.vector_layers.CircleMarker at 0x7fa7e4ce3470>,\n",
       " <folium.vector_layers.CircleMarker at 0x7fa7e4ce3668>,\n",
       " <folium.vector_layers.CircleMarker at 0x7fa7e4ce37b8>,\n",
       " <folium.vector_layers.CircleMarker at 0x7fa7e4ce36a0>,\n",
       " <folium.vector_layers.CircleMarker at 0x7fa7e4ce3780>,\n",
       " <folium.vector_layers.CircleMarker at 0x7fa7e4ce3748>,\n",
       " <folium.vector_layers.CircleMarker at 0x7fa7e4ce37f0>,\n",
       " <folium.vector_layers.CircleMarker at 0x7fa7e4ce3828>,\n",
       " <folium.vector_layers.CircleMarker at 0x7fa7e4ce3860>,\n",
       " <folium.vector_layers.CircleMarker at 0x7fa7e4ce3898>,\n",
       " <folium.vector_layers.CircleMarker at 0x7fa7e4ce38d0>,\n",
       " <folium.vector_layers.CircleMarker at 0x7fa7e4ce3908>,\n",
       " <folium.vector_layers.CircleMarker at 0x7fa7e4ce3940>,\n",
       " <folium.vector_layers.CircleMarker at 0x7fa7e4ce3978>,\n",
       " <folium.vector_layers.CircleMarker at 0x7fa7e4ce39b0>,\n",
       " <folium.vector_layers.CircleMarker at 0x7fa7e4ce39e8>,\n",
       " <folium.vector_layers.CircleMarker at 0x7fa7e4ce3a20>,\n",
       " <folium.vector_layers.CircleMarker at 0x7fa7e4ce3a58>,\n",
       " <folium.vector_layers.CircleMarker at 0x7fa7e4ce3a90>,\n",
       " <folium.vector_layers.CircleMarker at 0x7fa7e4ce3ac8>,\n",
       " <folium.vector_layers.CircleMarker at 0x7fa7e4ce3b00>,\n",
       " <folium.vector_layers.CircleMarker at 0x7fa7e4ce3b38>,\n",
       " <folium.vector_layers.CircleMarker at 0x7fa7e4ce3b70>,\n",
       " <folium.vector_layers.CircleMarker at 0x7fa7e4ce3ba8>,\n",
       " <folium.vector_layers.CircleMarker at 0x7fa7e4ce3be0>,\n",
       " <folium.vector_layers.CircleMarker at 0x7fa7e4ce3c18>,\n",
       " <folium.vector_layers.CircleMarker at 0x7fa7e4ce3c50>,\n",
       " <folium.vector_layers.CircleMarker at 0x7fa7e4ce3c88>,\n",
       " <folium.vector_layers.CircleMarker at 0x7fa7e4ce3cc0>,\n",
       " <folium.vector_layers.CircleMarker at 0x7fa7e4ce3cf8>,\n",
       " <folium.vector_layers.CircleMarker at 0x7fa7e4ce3d30>,\n",
       " <folium.vector_layers.CircleMarker at 0x7fa7e4ce3d68>,\n",
       " <folium.vector_layers.CircleMarker at 0x7fa7e4ce3da0>,\n",
       " <folium.vector_layers.CircleMarker at 0x7fa7e4ce3dd8>,\n",
       " <folium.vector_layers.CircleMarker at 0x7fa7e4ce3e10>,\n",
       " <folium.vector_layers.CircleMarker at 0x7fa7e4ce3e48>,\n",
       " <folium.vector_layers.CircleMarker at 0x7fa7e4ce3e80>,\n",
       " <folium.vector_layers.CircleMarker at 0x7fa7e4ce3eb8>,\n",
       " <folium.vector_layers.CircleMarker at 0x7fa7e4ce3ef0>,\n",
       " <folium.vector_layers.CircleMarker at 0x7fa7e4ce3f28>,\n",
       " <folium.vector_layers.CircleMarker at 0x7fa7e4ce3f60>,\n",
       " <folium.vector_layers.CircleMarker at 0x7fa7e4ce3f98>,\n",
       " <folium.vector_layers.CircleMarker at 0x7fa7e4ce3fd0>,\n",
       " <folium.vector_layers.CircleMarker at 0x7fa7e4ce3518>,\n",
       " <folium.vector_layers.CircleMarker at 0x7fa7e4c4a080>,\n",
       " <folium.vector_layers.CircleMarker at 0x7fa7e4c4a0b8>,\n",
       " <folium.vector_layers.CircleMarker at 0x7fa7e4c4a0f0>,\n",
       " <folium.vector_layers.CircleMarker at 0x7fa7e4c4a128>,\n",
       " <folium.vector_layers.CircleMarker at 0x7fa7e4c4a160>,\n",
       " <folium.vector_layers.CircleMarker at 0x7fa7e4c4a198>,\n",
       " <folium.vector_layers.CircleMarker at 0x7fa7e4c4a1d0>,\n",
       " <folium.vector_layers.CircleMarker at 0x7fa7e4c4a208>,\n",
       " <folium.vector_layers.CircleMarker at 0x7fa7e4c4a240>,\n",
       " <folium.vector_layers.CircleMarker at 0x7fa7e4c4a278>,\n",
       " <folium.vector_layers.CircleMarker at 0x7fa7e4c4a2b0>,\n",
       " <folium.vector_layers.CircleMarker at 0x7fa7e4c4a2e8>,\n",
       " <folium.vector_layers.CircleMarker at 0x7fa7e4c4a320>,\n",
       " <folium.vector_layers.CircleMarker at 0x7fa7e4c4a358>,\n",
       " <folium.vector_layers.CircleMarker at 0x7fa7e4c4a390>,\n",
       " <folium.vector_layers.CircleMarker at 0x7fa7e4c4a3c8>,\n",
       " <folium.vector_layers.CircleMarker at 0x7fa7e4c4a400>,\n",
       " <folium.vector_layers.CircleMarker at 0x7fa7e4c4a438>,\n",
       " <folium.vector_layers.CircleMarker at 0x7fa7e4c4a470>,\n",
       " <folium.vector_layers.CircleMarker at 0x7fa7e4c4a4a8>,\n",
       " <folium.vector_layers.CircleMarker at 0x7fa7e4c4a4e0>,\n",
       " <folium.vector_layers.CircleMarker at 0x7fa7e4c4a518>,\n",
       " <folium.vector_layers.CircleMarker at 0x7fa7e4c4a550>,\n",
       " <folium.vector_layers.CircleMarker at 0x7fa7e4c4a588>,\n",
       " <folium.vector_layers.CircleMarker at 0x7fa7e4c4a5c0>,\n",
       " <folium.vector_layers.CircleMarker at 0x7fa7e4c4a5f8>,\n",
       " <folium.vector_layers.CircleMarker at 0x7fa7e4c4a630>,\n",
       " <folium.vector_layers.CircleMarker at 0x7fa7e4c4a668>,\n",
       " <folium.vector_layers.CircleMarker at 0x7fa7e4c4a6a0>,\n",
       " <folium.vector_layers.CircleMarker at 0x7fa7e4c4a6d8>,\n",
       " <folium.vector_layers.CircleMarker at 0x7fa7e4c4a710>,\n",
       " <folium.vector_layers.CircleMarker at 0x7fa7e4c4a748>,\n",
       " <folium.vector_layers.CircleMarker at 0x7fa7e4c4a780>,\n",
       " <folium.vector_layers.CircleMarker at 0x7fa7e4c4a7b8>,\n",
       " <folium.vector_layers.CircleMarker at 0x7fa7e4c4a7f0>,\n",
       " <folium.vector_layers.CircleMarker at 0x7fa7e4c4a828>,\n",
       " <folium.vector_layers.CircleMarker at 0x7fa7e4c4a860>,\n",
       " <folium.vector_layers.CircleMarker at 0x7fa7e4c4a898>,\n",
       " <folium.vector_layers.CircleMarker at 0x7fa7e4c4a8d0>,\n",
       " <folium.vector_layers.CircleMarker at 0x7fa7e4c4a908>,\n",
       " <folium.vector_layers.CircleMarker at 0x7fa7e4c4a940>,\n",
       " <folium.vector_layers.CircleMarker at 0x7fa7e4c4a978>,\n",
       " <folium.vector_layers.CircleMarker at 0x7fa7e4c4a9b0>,\n",
       " <folium.vector_layers.CircleMarker at 0x7fa7e4c4a9e8>,\n",
       " <folium.vector_layers.CircleMarker at 0x7fa7e4c4aa20>,\n",
       " <folium.vector_layers.CircleMarker at 0x7fa7e4c4aa58>,\n",
       " <folium.vector_layers.CircleMarker at 0x7fa7e4c4aa90>,\n",
       " <folium.vector_layers.CircleMarker at 0x7fa7e4c4aac8>,\n",
       " <folium.vector_layers.CircleMarker at 0x7fa7e4c4ab00>,\n",
       " <folium.vector_layers.CircleMarker at 0x7fa7e4c4ab38>,\n",
       " <folium.vector_layers.CircleMarker at 0x7fa7e4c4ab70>,\n",
       " <folium.vector_layers.CircleMarker at 0x7fa7e4c4aba8>,\n",
       " <folium.vector_layers.CircleMarker at 0x7fa7e4c4abe0>,\n",
       " <folium.vector_layers.CircleMarker at 0x7fa7e4c4ac18>,\n",
       " <folium.vector_layers.CircleMarker at 0x7fa7e4c4ac50>,\n",
       " <folium.vector_layers.CircleMarker at 0x7fa7e4c4ac88>,\n",
       " <folium.vector_layers.CircleMarker at 0x7fa7e4c4acc0>,\n",
       " <folium.vector_layers.CircleMarker at 0x7fa7e4c4acf8>,\n",
       " <folium.vector_layers.CircleMarker at 0x7fa7e4c4ad30>,\n",
       " <folium.vector_layers.CircleMarker at 0x7fa7e4c4ad68>,\n",
       " <folium.vector_layers.CircleMarker at 0x7fa7e4c4ada0>,\n",
       " <folium.vector_layers.CircleMarker at 0x7fa7e4c4add8>,\n",
       " <folium.vector_layers.CircleMarker at 0x7fa7e4c4ae10>,\n",
       " <folium.vector_layers.CircleMarker at 0x7fa7e4c4ae48>,\n",
       " <folium.vector_layers.CircleMarker at 0x7fa7e4c4ae80>,\n",
       " <folium.vector_layers.CircleMarker at 0x7fa7e4c4aeb8>,\n",
       " <folium.vector_layers.CircleMarker at 0x7fa7e4c4aef0>,\n",
       " <folium.vector_layers.CircleMarker at 0x7fa7e4c4af28>,\n",
       " <folium.vector_layers.CircleMarker at 0x7fa7e4cab1d0>,\n",
       " <folium.vector_layers.CircleMarker at 0x7fa7e4ce17f0>,\n",
       " <folium.vector_layers.CircleMarker at 0x7fa800d84128>,\n",
       " <folium.vector_layers.CircleMarker at 0x7fa7e4ce1e48>,\n",
       " <folium.vector_layers.CircleMarker at 0x7fa7e4c4a048>,\n",
       " <folium.vector_layers.CircleMarker at 0x7fa7e4c4af98>,\n",
       " <folium.vector_layers.CircleMarker at 0x7fa7e4c4afd0>,\n",
       " <folium.vector_layers.CircleMarker at 0x7fa7e4c4af60>,\n",
       " <folium.vector_layers.CircleMarker at 0x7fa7e4c57080>,\n",
       " <folium.vector_layers.CircleMarker at 0x7fa7e4c570b8>,\n",
       " <folium.vector_layers.CircleMarker at 0x7fa7e4c570f0>,\n",
       " <folium.vector_layers.CircleMarker at 0x7fa7e4c57128>,\n",
       " <folium.vector_layers.CircleMarker at 0x7fa7e4c57160>,\n",
       " <folium.vector_layers.CircleMarker at 0x7fa7e4c57198>,\n",
       " <folium.vector_layers.CircleMarker at 0x7fa7e4c571d0>,\n",
       " <folium.vector_layers.CircleMarker at 0x7fa7e4c57208>,\n",
       " <folium.vector_layers.CircleMarker at 0x7fa7e4c57240>,\n",
       " <folium.vector_layers.CircleMarker at 0x7fa7e4c57278>,\n",
       " <folium.vector_layers.CircleMarker at 0x7fa7e4c572b0>,\n",
       " <folium.vector_layers.CircleMarker at 0x7fa7e4c572e8>,\n",
       " <folium.vector_layers.CircleMarker at 0x7fa7e4c57320>,\n",
       " <folium.vector_layers.CircleMarker at 0x7fa7e4c57358>,\n",
       " <folium.vector_layers.CircleMarker at 0x7fa7e4c57390>,\n",
       " <folium.vector_layers.CircleMarker at 0x7fa7e4c573c8>,\n",
       " <folium.vector_layers.CircleMarker at 0x7fa7e4c57400>,\n",
       " <folium.vector_layers.CircleMarker at 0x7fa7e4c57438>,\n",
       " <folium.vector_layers.CircleMarker at 0x7fa7e4c57470>,\n",
       " <folium.vector_layers.CircleMarker at 0x7fa7e4c574a8>,\n",
       " <folium.vector_layers.CircleMarker at 0x7fa7e4c574e0>,\n",
       " <folium.vector_layers.CircleMarker at 0x7fa7e4c57518>,\n",
       " <folium.vector_layers.CircleMarker at 0x7fa7e4c57550>,\n",
       " <folium.vector_layers.CircleMarker at 0x7fa7e4c57588>,\n",
       " <folium.vector_layers.CircleMarker at 0x7fa7e4c575c0>,\n",
       " <folium.vector_layers.CircleMarker at 0x7fa7e4c575f8>,\n",
       " <folium.vector_layers.CircleMarker at 0x7fa7e4c57630>,\n",
       " <folium.vector_layers.CircleMarker at 0x7fa7e4c57668>,\n",
       " <folium.vector_layers.CircleMarker at 0x7fa7e4c576a0>,\n",
       " <folium.vector_layers.CircleMarker at 0x7fa7e4c576d8>,\n",
       " <folium.vector_layers.CircleMarker at 0x7fa7e4c57710>,\n",
       " <folium.vector_layers.CircleMarker at 0x7fa7e4c57748>,\n",
       " <folium.vector_layers.CircleMarker at 0x7fa7e4c57780>,\n",
       " <folium.vector_layers.CircleMarker at 0x7fa7e4c577b8>,\n",
       " <folium.vector_layers.CircleMarker at 0x7fa7e4c577f0>,\n",
       " <folium.vector_layers.CircleMarker at 0x7fa7e4c57828>,\n",
       " <folium.vector_layers.CircleMarker at 0x7fa7e4c57860>,\n",
       " <folium.vector_layers.CircleMarker at 0x7fa7e4c57898>,\n",
       " <folium.vector_layers.CircleMarker at 0x7fa7e4c578d0>,\n",
       " <folium.vector_layers.CircleMarker at 0x7fa7e4c57908>,\n",
       " <folium.vector_layers.CircleMarker at 0x7fa7e4c57940>,\n",
       " <folium.vector_layers.CircleMarker at 0x7fa7e4c57978>,\n",
       " <folium.vector_layers.CircleMarker at 0x7fa7e4c579b0>,\n",
       " <folium.vector_layers.CircleMarker at 0x7fa7e4c579e8>,\n",
       " <folium.vector_layers.CircleMarker at 0x7fa7e4c57a20>,\n",
       " <folium.vector_layers.CircleMarker at 0x7fa7e4c57a58>,\n",
       " <folium.vector_layers.CircleMarker at 0x7fa7e4c57a90>,\n",
       " <folium.vector_layers.CircleMarker at 0x7fa7e4c57ac8>,\n",
       " <folium.vector_layers.CircleMarker at 0x7fa7e4c57b00>,\n",
       " <folium.vector_layers.CircleMarker at 0x7fa7e4c57b38>,\n",
       " <folium.vector_layers.CircleMarker at 0x7fa7e4c57b70>,\n",
       " <folium.vector_layers.CircleMarker at 0x7fa7e4c57ba8>,\n",
       " <folium.vector_layers.CircleMarker at 0x7fa7e4c57be0>,\n",
       " <folium.vector_layers.CircleMarker at 0x7fa7e4c57c18>,\n",
       " <folium.vector_layers.CircleMarker at 0x7fa7e4c57c50>,\n",
       " <folium.vector_layers.CircleMarker at 0x7fa7e4c57c88>,\n",
       " <folium.vector_layers.CircleMarker at 0x7fa7e4c57cc0>,\n",
       " <folium.vector_layers.CircleMarker at 0x7fa7e4c57cf8>,\n",
       " <folium.vector_layers.CircleMarker at 0x7fa7e4c57d30>,\n",
       " <folium.vector_layers.CircleMarker at 0x7fa7e4c57d68>,\n",
       " <folium.vector_layers.CircleMarker at 0x7fa7e4c57da0>,\n",
       " <folium.vector_layers.CircleMarker at 0x7fa7e4c57dd8>,\n",
       " <folium.vector_layers.CircleMarker at 0x7fa7e4c57e10>,\n",
       " <folium.vector_layers.CircleMarker at 0x7fa7e4c57e48>,\n",
       " <folium.vector_layers.CircleMarker at 0x7fa7e4c57e80>,\n",
       " <folium.vector_layers.CircleMarker at 0x7fa7e4c57eb8>,\n",
       " <folium.vector_layers.CircleMarker at 0x7fa7e4c57ef0>,\n",
       " <folium.vector_layers.CircleMarker at 0x7fa7e4c57f28>,\n",
       " <folium.vector_layers.CircleMarker at 0x7fa7e4c57f60>,\n",
       " <folium.vector_layers.CircleMarker at 0x7fa7e4c57f98>,\n",
       " <folium.vector_layers.CircleMarker at 0x7fa7e4c57fd0>,\n",
       " <folium.vector_layers.CircleMarker at 0x7fa7e4c57048>,\n",
       " <folium.vector_layers.CircleMarker at 0x7fa7e4c65080>,\n",
       " <folium.vector_layers.CircleMarker at 0x7fa7e4c650b8>,\n",
       " <folium.vector_layers.CircleMarker at 0x7fa7e4c650f0>,\n",
       " <folium.vector_layers.CircleMarker at 0x7fa7e4c65128>,\n",
       " <folium.vector_layers.CircleMarker at 0x7fa7e4c65160>,\n",
       " <folium.vector_layers.CircleMarker at 0x7fa7e4c65198>,\n",
       " <folium.vector_layers.CircleMarker at 0x7fa7e4c651d0>,\n",
       " <folium.vector_layers.CircleMarker at 0x7fa7e4c65208>,\n",
       " <folium.vector_layers.CircleMarker at 0x7fa7e4c65240>,\n",
       " <folium.vector_layers.CircleMarker at 0x7fa7e4c65278>,\n",
       " <folium.vector_layers.CircleMarker at 0x7fa7e4c652b0>,\n",
       " <folium.vector_layers.CircleMarker at 0x7fa7e4c652e8>,\n",
       " <folium.vector_layers.CircleMarker at 0x7fa7e4c65320>,\n",
       " <folium.vector_layers.CircleMarker at 0x7fa7e4c65358>,\n",
       " <folium.vector_layers.CircleMarker at 0x7fa7e4c65390>,\n",
       " <folium.vector_layers.CircleMarker at 0x7fa7e4c653c8>,\n",
       " <folium.vector_layers.CircleMarker at 0x7fa7e4c65400>,\n",
       " <folium.vector_layers.CircleMarker at 0x7fa7e4c65438>,\n",
       " <folium.vector_layers.CircleMarker at 0x7fa7e4c65470>,\n",
       " <folium.vector_layers.CircleMarker at 0x7fa7e4c654a8>,\n",
       " <folium.vector_layers.CircleMarker at 0x7fa7e4c654e0>,\n",
       " <folium.vector_layers.CircleMarker at 0x7fa7e4c65518>,\n",
       " <folium.vector_layers.CircleMarker at 0x7fa7e4c65550>,\n",
       " <folium.vector_layers.CircleMarker at 0x7fa7e4c65588>,\n",
       " <folium.vector_layers.CircleMarker at 0x7fa7e4c655c0>,\n",
       " <folium.vector_layers.CircleMarker at 0x7fa7e4c655f8>,\n",
       " <folium.vector_layers.CircleMarker at 0x7fa7e4c65630>,\n",
       " <folium.vector_layers.CircleMarker at 0x7fa7e4c65668>,\n",
       " <folium.vector_layers.CircleMarker at 0x7fa7e4c656a0>,\n",
       " <folium.vector_layers.CircleMarker at 0x7fa7e4c656d8>,\n",
       " <folium.vector_layers.CircleMarker at 0x7fa7e4c65710>,\n",
       " <folium.vector_layers.CircleMarker at 0x7fa7e4c65748>,\n",
       " <folium.vector_layers.CircleMarker at 0x7fa7e4c65780>,\n",
       " <folium.vector_layers.CircleMarker at 0x7fa7e4c657b8>,\n",
       " <folium.vector_layers.CircleMarker at 0x7fa7e4c657f0>,\n",
       " <folium.vector_layers.CircleMarker at 0x7fa7e4c65828>,\n",
       " <folium.vector_layers.CircleMarker at 0x7fa7e4c65860>,\n",
       " <folium.vector_layers.CircleMarker at 0x7fa7e4c65898>,\n",
       " <folium.vector_layers.CircleMarker at 0x7fa7e4c658d0>,\n",
       " <folium.vector_layers.CircleMarker at 0x7fa7e4c65908>,\n",
       " <folium.vector_layers.CircleMarker at 0x7fa7e4c65940>,\n",
       " <folium.vector_layers.CircleMarker at 0x7fa7e4c65978>,\n",
       " <folium.vector_layers.CircleMarker at 0x7fa7e4c659b0>,\n",
       " <folium.vector_layers.CircleMarker at 0x7fa7e4c659e8>,\n",
       " <folium.vector_layers.CircleMarker at 0x7fa7e4c65a20>,\n",
       " <folium.vector_layers.CircleMarker at 0x7fa7e4c65a58>,\n",
       " <folium.vector_layers.CircleMarker at 0x7fa7e4c65a90>,\n",
       " <folium.vector_layers.CircleMarker at 0x7fa7e4c65ac8>,\n",
       " <folium.vector_layers.CircleMarker at 0x7fa7e4c65b00>,\n",
       " <folium.vector_layers.CircleMarker at 0x7fa7e4c65b38>,\n",
       " <folium.vector_layers.CircleMarker at 0x7fa7e4c65b70>,\n",
       " <folium.vector_layers.CircleMarker at 0x7fa7e4c65ba8>,\n",
       " <folium.vector_layers.CircleMarker at 0x7fa7e4c65be0>,\n",
       " <folium.vector_layers.CircleMarker at 0x7fa7e4c65c18>,\n",
       " <folium.vector_layers.CircleMarker at 0x7fa7e4c65c50>,\n",
       " <folium.vector_layers.CircleMarker at 0x7fa7e4c65c88>,\n",
       " <folium.vector_layers.CircleMarker at 0x7fa7e4c65cc0>,\n",
       " <folium.vector_layers.CircleMarker at 0x7fa7e4c65cf8>,\n",
       " <folium.vector_layers.CircleMarker at 0x7fa7e4c65d30>,\n",
       " <folium.vector_layers.CircleMarker at 0x7fa7e4c65d68>,\n",
       " <folium.vector_layers.CircleMarker at 0x7fa7e4c65da0>,\n",
       " <folium.vector_layers.CircleMarker at 0x7fa7e4c65dd8>,\n",
       " <folium.vector_layers.CircleMarker at 0x7fa7e4c65e10>,\n",
       " <folium.vector_layers.CircleMarker at 0x7fa7e4c65e48>,\n",
       " <folium.vector_layers.CircleMarker at 0x7fa7e4c65e80>,\n",
       " <folium.vector_layers.CircleMarker at 0x7fa7e4c65eb8>,\n",
       " <folium.vector_layers.CircleMarker at 0x7fa7e4c65ef0>,\n",
       " <folium.vector_layers.CircleMarker at 0x7fa7e4c65f28>,\n",
       " <folium.vector_layers.CircleMarker at 0x7fa7e4c65f60>,\n",
       " <folium.vector_layers.CircleMarker at 0x7fa7e4c65f98>,\n",
       " <folium.vector_layers.CircleMarker at 0x7fa7e4c65fd0>,\n",
       " <folium.vector_layers.CircleMarker at 0x7fa7e4c65048>,\n",
       " <folium.vector_layers.CircleMarker at 0x7fa7e4bf4080>,\n",
       " <folium.vector_layers.CircleMarker at 0x7fa7e4bf40b8>,\n",
       " <folium.vector_layers.CircleMarker at 0x7fa7e4bf40f0>,\n",
       " <folium.vector_layers.CircleMarker at 0x7fa7e4bf4128>,\n",
       " <folium.vector_layers.CircleMarker at 0x7fa7e4bf4160>,\n",
       " <folium.vector_layers.CircleMarker at 0x7fa7e4bf4198>,\n",
       " <folium.vector_layers.CircleMarker at 0x7fa7e4bf41d0>,\n",
       " <folium.vector_layers.CircleMarker at 0x7fa7e4bf4208>,\n",
       " <folium.vector_layers.CircleMarker at 0x7fa7e4bf4240>,\n",
       " <folium.vector_layers.CircleMarker at 0x7fa7e4bf4278>,\n",
       " <folium.vector_layers.CircleMarker at 0x7fa7e4bf42b0>,\n",
       " <folium.vector_layers.CircleMarker at 0x7fa7e4bf42e8>,\n",
       " <folium.vector_layers.CircleMarker at 0x7fa7e4bf4320>,\n",
       " <folium.vector_layers.CircleMarker at 0x7fa7e4bf4358>,\n",
       " <folium.vector_layers.CircleMarker at 0x7fa7e4bf4390>,\n",
       " <folium.vector_layers.CircleMarker at 0x7fa7e4bf43c8>,\n",
       " <folium.vector_layers.CircleMarker at 0x7fa7e4bf4400>,\n",
       " <folium.vector_layers.CircleMarker at 0x7fa7e4bf4438>,\n",
       " <folium.vector_layers.CircleMarker at 0x7fa7e4bf4470>,\n",
       " <folium.vector_layers.CircleMarker at 0x7fa7e4bf44a8>,\n",
       " <folium.vector_layers.CircleMarker at 0x7fa7e4bf44e0>,\n",
       " <folium.vector_layers.CircleMarker at 0x7fa7e4bf4518>,\n",
       " <folium.vector_layers.CircleMarker at 0x7fa7e4bf4550>,\n",
       " <folium.vector_layers.CircleMarker at 0x7fa7e4bf4588>,\n",
       " <folium.vector_layers.CircleMarker at 0x7fa7e4bf45c0>,\n",
       " <folium.vector_layers.CircleMarker at 0x7fa7e4bf45f8>,\n",
       " <folium.vector_layers.CircleMarker at 0x7fa7e4bf4630>,\n",
       " <folium.vector_layers.CircleMarker at 0x7fa7e4bf4668>,\n",
       " <folium.vector_layers.CircleMarker at 0x7fa7e4bf46a0>,\n",
       " <folium.vector_layers.CircleMarker at 0x7fa7e4bf46d8>,\n",
       " <folium.vector_layers.CircleMarker at 0x7fa7e4bf4710>,\n",
       " <folium.vector_layers.CircleMarker at 0x7fa7e4bf4748>,\n",
       " <folium.vector_layers.CircleMarker at 0x7fa7e4bf4780>,\n",
       " <folium.vector_layers.CircleMarker at 0x7fa7e4bf47b8>,\n",
       " <folium.vector_layers.CircleMarker at 0x7fa7e4bf47f0>,\n",
       " <folium.vector_layers.CircleMarker at 0x7fa7e4bf4828>,\n",
       " <folium.vector_layers.CircleMarker at 0x7fa7e4bf4860>,\n",
       " <folium.vector_layers.CircleMarker at 0x7fa7e4bf4898>,\n",
       " <folium.vector_layers.CircleMarker at 0x7fa7e4bf48d0>,\n",
       " <folium.vector_layers.CircleMarker at 0x7fa7e4bf4908>,\n",
       " <folium.vector_layers.CircleMarker at 0x7fa7e4bf4940>,\n",
       " <folium.vector_layers.CircleMarker at 0x7fa7e4bf4978>,\n",
       " <folium.vector_layers.CircleMarker at 0x7fa7e4bf49b0>,\n",
       " <folium.vector_layers.CircleMarker at 0x7fa7e4bf49e8>,\n",
       " <folium.vector_layers.CircleMarker at 0x7fa7e4bf4a20>,\n",
       " <folium.vector_layers.CircleMarker at 0x7fa7e4bf4a58>,\n",
       " <folium.vector_layers.CircleMarker at 0x7fa7e4bf4a90>,\n",
       " <folium.vector_layers.CircleMarker at 0x7fa7e4bf4ac8>,\n",
       " <folium.vector_layers.CircleMarker at 0x7fa7e4bf4b00>,\n",
       " <folium.vector_layers.CircleMarker at 0x7fa7e4bf4b38>,\n",
       " <folium.vector_layers.CircleMarker at 0x7fa7e4bf4b70>,\n",
       " <folium.vector_layers.CircleMarker at 0x7fa7e4bf4ba8>,\n",
       " <folium.vector_layers.CircleMarker at 0x7fa7e4bf4be0>,\n",
       " <folium.vector_layers.CircleMarker at 0x7fa7e4bf4c18>,\n",
       " <folium.vector_layers.CircleMarker at 0x7fa7e4bf4c50>,\n",
       " <folium.vector_layers.CircleMarker at 0x7fa7e4bf4c88>,\n",
       " <folium.vector_layers.CircleMarker at 0x7fa7e4bf4cc0>,\n",
       " <folium.vector_layers.CircleMarker at 0x7fa7e4bf4cf8>,\n",
       " <folium.vector_layers.CircleMarker at 0x7fa7e4bf4d30>,\n",
       " <folium.vector_layers.CircleMarker at 0x7fa7e4bf4d68>,\n",
       " <folium.vector_layers.CircleMarker at 0x7fa7e4bf4da0>,\n",
       " <folium.vector_layers.CircleMarker at 0x7fa7e4bf4dd8>,\n",
       " <folium.vector_layers.CircleMarker at 0x7fa7e4bf4e10>,\n",
       " <folium.vector_layers.CircleMarker at 0x7fa7e4bf4e48>,\n",
       " <folium.vector_layers.CircleMarker at 0x7fa7e4bf4e80>,\n",
       " <folium.vector_layers.CircleMarker at 0x7fa7e4bf4eb8>,\n",
       " <folium.vector_layers.CircleMarker at 0x7fa7e4bf4ef0>,\n",
       " <folium.vector_layers.CircleMarker at 0x7fa7e4bf4f28>,\n",
       " <folium.vector_layers.CircleMarker at 0x7fa7e4bf4f60>,\n",
       " <folium.vector_layers.CircleMarker at 0x7fa7e4bf4f98>,\n",
       " <folium.vector_layers.CircleMarker at 0x7fa7e4bf4fd0>,\n",
       " <folium.vector_layers.CircleMarker at 0x7fa7e4bf4048>,\n",
       " <folium.vector_layers.CircleMarker at 0x7fa7e4c00080>,\n",
       " <folium.vector_layers.CircleMarker at 0x7fa7e4c000b8>,\n",
       " <folium.vector_layers.CircleMarker at 0x7fa7e4c000f0>,\n",
       " <folium.vector_layers.CircleMarker at 0x7fa7e4c00128>,\n",
       " <folium.vector_layers.CircleMarker at 0x7fa7e4c00160>,\n",
       " <folium.vector_layers.CircleMarker at 0x7fa7e4c00198>,\n",
       " <folium.vector_layers.CircleMarker at 0x7fa7e4c001d0>,\n",
       " <folium.vector_layers.CircleMarker at 0x7fa7e4c00208>,\n",
       " <folium.vector_layers.CircleMarker at 0x7fa7e4c00240>,\n",
       " <folium.vector_layers.CircleMarker at 0x7fa7e4c00278>,\n",
       " <folium.vector_layers.CircleMarker at 0x7fa7e4c002b0>,\n",
       " <folium.vector_layers.CircleMarker at 0x7fa7e4c002e8>,\n",
       " <folium.vector_layers.CircleMarker at 0x7fa7e4c00320>,\n",
       " <folium.vector_layers.CircleMarker at 0x7fa7e4c00358>,\n",
       " <folium.vector_layers.CircleMarker at 0x7fa7e4c00390>,\n",
       " <folium.vector_layers.CircleMarker at 0x7fa7e4c003c8>,\n",
       " <folium.vector_layers.CircleMarker at 0x7fa7e4c00400>,\n",
       " <folium.vector_layers.CircleMarker at 0x7fa7e4c00438>,\n",
       " <folium.vector_layers.CircleMarker at 0x7fa7e4c00470>,\n",
       " <folium.vector_layers.CircleMarker at 0x7fa7e4c004a8>,\n",
       " <folium.vector_layers.CircleMarker at 0x7fa7e4c004e0>,\n",
       " <folium.vector_layers.CircleMarker at 0x7fa7e4c00518>,\n",
       " <folium.vector_layers.CircleMarker at 0x7fa7e4c00550>,\n",
       " <folium.vector_layers.CircleMarker at 0x7fa7e4c00588>,\n",
       " <folium.vector_layers.CircleMarker at 0x7fa7e4c005c0>,\n",
       " <folium.vector_layers.CircleMarker at 0x7fa7e4c005f8>,\n",
       " <folium.vector_layers.CircleMarker at 0x7fa7e4c00630>,\n",
       " <folium.vector_layers.CircleMarker at 0x7fa7e4c00668>,\n",
       " <folium.vector_layers.CircleMarker at 0x7fa7e4c006a0>,\n",
       " <folium.vector_layers.CircleMarker at 0x7fa7e4c006d8>,\n",
       " <folium.vector_layers.CircleMarker at 0x7fa7e4c00710>,\n",
       " <folium.vector_layers.CircleMarker at 0x7fa7e4c00748>,\n",
       " <folium.vector_layers.CircleMarker at 0x7fa7e4c00780>,\n",
       " <folium.vector_layers.CircleMarker at 0x7fa7e4c007b8>,\n",
       " <folium.vector_layers.CircleMarker at 0x7fa7e4c007f0>,\n",
       " <folium.vector_layers.CircleMarker at 0x7fa7e4c00828>,\n",
       " <folium.vector_layers.CircleMarker at 0x7fa7e4c00860>,\n",
       " <folium.vector_layers.CircleMarker at 0x7fa7e4c00898>,\n",
       " <folium.vector_layers.CircleMarker at 0x7fa7e4c008d0>,\n",
       " <folium.vector_layers.CircleMarker at 0x7fa7e4c00908>,\n",
       " <folium.vector_layers.CircleMarker at 0x7fa7e4c00940>,\n",
       " <folium.vector_layers.CircleMarker at 0x7fa7e4c00978>,\n",
       " <folium.vector_layers.CircleMarker at 0x7fa7e4c009b0>,\n",
       " <folium.vector_layers.CircleMarker at 0x7fa7e4c009e8>,\n",
       " <folium.vector_layers.CircleMarker at 0x7fa7e4c00a20>,\n",
       " <folium.vector_layers.CircleMarker at 0x7fa7e4c00a58>,\n",
       " <folium.vector_layers.CircleMarker at 0x7fa7e4c00a90>,\n",
       " <folium.vector_layers.CircleMarker at 0x7fa7e4c00ac8>,\n",
       " <folium.vector_layers.CircleMarker at 0x7fa7e4c00b00>,\n",
       " <folium.vector_layers.CircleMarker at 0x7fa7e4c00b38>,\n",
       " <folium.vector_layers.CircleMarker at 0x7fa7e4c00b70>,\n",
       " <folium.vector_layers.CircleMarker at 0x7fa7e4c00ba8>,\n",
       " <folium.vector_layers.CircleMarker at 0x7fa7e4c00be0>,\n",
       " <folium.vector_layers.CircleMarker at 0x7fa7e4c00c18>,\n",
       " <folium.vector_layers.CircleMarker at 0x7fa7e4c00c50>,\n",
       " <folium.vector_layers.CircleMarker at 0x7fa7e4c00c88>,\n",
       " <folium.vector_layers.CircleMarker at 0x7fa7e4c00cc0>,\n",
       " <folium.vector_layers.CircleMarker at 0x7fa7e4c00cf8>,\n",
       " <folium.vector_layers.CircleMarker at 0x7fa7e4c00d30>,\n",
       " <folium.vector_layers.CircleMarker at 0x7fa7e4c00d68>,\n",
       " <folium.vector_layers.CircleMarker at 0x7fa7e4c00da0>,\n",
       " <folium.vector_layers.CircleMarker at 0x7fa7e4c00dd8>,\n",
       " <folium.vector_layers.CircleMarker at 0x7fa7e4c00e10>,\n",
       " <folium.vector_layers.CircleMarker at 0x7fa7e4c00e48>,\n",
       " <folium.vector_layers.CircleMarker at 0x7fa7e4c00e80>,\n",
       " <folium.vector_layers.CircleMarker at 0x7fa7e4c00eb8>,\n",
       " <folium.vector_layers.CircleMarker at 0x7fa7e4c00ef0>,\n",
       " <folium.vector_layers.CircleMarker at 0x7fa7e4c00f28>,\n",
       " <folium.vector_layers.CircleMarker at 0x7fa7e4c00f60>,\n",
       " <folium.vector_layers.CircleMarker at 0x7fa7e4c00f98>,\n",
       " <folium.vector_layers.CircleMarker at 0x7fa7e4c00fd0>,\n",
       " <folium.vector_layers.CircleMarker at 0x7fa7e4c00048>,\n",
       " <folium.vector_layers.CircleMarker at 0x7fa7e4c0f080>,\n",
       " <folium.vector_layers.CircleMarker at 0x7fa7e4c0f0b8>,\n",
       " <folium.vector_layers.CircleMarker at 0x7fa7e4c0f0f0>,\n",
       " <folium.vector_layers.CircleMarker at 0x7fa7e4c0f128>,\n",
       " <folium.vector_layers.CircleMarker at 0x7fa7e4c0f160>,\n",
       " <folium.vector_layers.CircleMarker at 0x7fa7e4c0f198>,\n",
       " <folium.vector_layers.CircleMarker at 0x7fa7e4c0f1d0>,\n",
       " <folium.vector_layers.CircleMarker at 0x7fa7e4c0f208>,\n",
       " <folium.vector_layers.CircleMarker at 0x7fa7e4c0f240>,\n",
       " <folium.vector_layers.CircleMarker at 0x7fa7e4c0f278>,\n",
       " <folium.vector_layers.CircleMarker at 0x7fa7e4c0f2b0>,\n",
       " <folium.vector_layers.CircleMarker at 0x7fa7e4c0f2e8>,\n",
       " <folium.vector_layers.CircleMarker at 0x7fa7e4c0f320>,\n",
       " <folium.vector_layers.CircleMarker at 0x7fa7e4c0f358>,\n",
       " <folium.vector_layers.CircleMarker at 0x7fa7e4c0f390>,\n",
       " <folium.vector_layers.CircleMarker at 0x7fa7e4c0f3c8>,\n",
       " <folium.vector_layers.CircleMarker at 0x7fa7e4c0f400>,\n",
       " <folium.vector_layers.CircleMarker at 0x7fa7e4c0f438>,\n",
       " <folium.vector_layers.CircleMarker at 0x7fa7e4c0f470>,\n",
       " <folium.vector_layers.CircleMarker at 0x7fa7e4c0f4a8>,\n",
       " <folium.vector_layers.CircleMarker at 0x7fa7e4c0f4e0>,\n",
       " <folium.vector_layers.CircleMarker at 0x7fa7e4c0f518>,\n",
       " <folium.vector_layers.CircleMarker at 0x7fa7e4c0f550>,\n",
       " <folium.vector_layers.CircleMarker at 0x7fa7e4c0f588>,\n",
       " <folium.vector_layers.CircleMarker at 0x7fa7e4c0f5c0>,\n",
       " <folium.vector_layers.CircleMarker at 0x7fa7e4c0f5f8>,\n",
       " <folium.vector_layers.CircleMarker at 0x7fa7e4c0f630>,\n",
       " <folium.vector_layers.CircleMarker at 0x7fa7e4c0f668>,\n",
       " <folium.vector_layers.CircleMarker at 0x7fa7e4c0f6a0>,\n",
       " <folium.vector_layers.CircleMarker at 0x7fa7e4c0f6d8>,\n",
       " <folium.vector_layers.CircleMarker at 0x7fa7e4c0f710>,\n",
       " <folium.vector_layers.CircleMarker at 0x7fa7e4c0f748>,\n",
       " <folium.vector_layers.CircleMarker at 0x7fa7e4c0f780>,\n",
       " <folium.vector_layers.CircleMarker at 0x7fa7e4c0f7b8>,\n",
       " <folium.vector_layers.CircleMarker at 0x7fa7e4c0f7f0>,\n",
       " <folium.vector_layers.CircleMarker at 0x7fa7e4c0f828>,\n",
       " <folium.vector_layers.CircleMarker at 0x7fa7e4c0f860>,\n",
       " <folium.vector_layers.CircleMarker at 0x7fa7e4c0f898>,\n",
       " <folium.vector_layers.CircleMarker at 0x7fa7e4c0f8d0>,\n",
       " <folium.vector_layers.CircleMarker at 0x7fa7e4c0f908>,\n",
       " <folium.vector_layers.CircleMarker at 0x7fa7e4c0f940>,\n",
       " <folium.vector_layers.CircleMarker at 0x7fa7e4c0f978>,\n",
       " <folium.vector_layers.CircleMarker at 0x7fa7e4c0f9b0>,\n",
       " <folium.vector_layers.CircleMarker at 0x7fa7e4c0f9e8>,\n",
       " <folium.vector_layers.CircleMarker at 0x7fa7e4c0fa20>,\n",
       " <folium.vector_layers.CircleMarker at 0x7fa7e4c0fa58>,\n",
       " <folium.vector_layers.CircleMarker at 0x7fa7e4c0fa90>,\n",
       " <folium.vector_layers.CircleMarker at 0x7fa7e4c0fac8>,\n",
       " <folium.vector_layers.CircleMarker at 0x7fa7e4c0fb00>,\n",
       " <folium.vector_layers.CircleMarker at 0x7fa7e4c0fb38>,\n",
       " <folium.vector_layers.CircleMarker at 0x7fa7e4c0fb70>,\n",
       " <folium.vector_layers.CircleMarker at 0x7fa7e4c0fba8>,\n",
       " <folium.vector_layers.CircleMarker at 0x7fa7e4c0fbe0>,\n",
       " <folium.vector_layers.CircleMarker at 0x7fa7e4c0fc18>,\n",
       " <folium.vector_layers.CircleMarker at 0x7fa7e4c0fc50>,\n",
       " <folium.vector_layers.CircleMarker at 0x7fa7e4c0fc88>,\n",
       " <folium.vector_layers.CircleMarker at 0x7fa7e4c0fcc0>,\n",
       " <folium.vector_layers.CircleMarker at 0x7fa7e4c0fcf8>,\n",
       " <folium.vector_layers.CircleMarker at 0x7fa7e4c0fd30>,\n",
       " <folium.vector_layers.CircleMarker at 0x7fa7e4c0fd68>,\n",
       " <folium.vector_layers.CircleMarker at 0x7fa7e4c0fda0>,\n",
       " <folium.vector_layers.CircleMarker at 0x7fa7e4c0fdd8>,\n",
       " <folium.vector_layers.CircleMarker at 0x7fa7e4c0fe10>,\n",
       " <folium.vector_layers.CircleMarker at 0x7fa7e4c0fe48>,\n",
       " <folium.vector_layers.CircleMarker at 0x7fa7e4c0fe80>,\n",
       " <folium.vector_layers.CircleMarker at 0x7fa7e4c0feb8>,\n",
       " <folium.vector_layers.CircleMarker at 0x7fa7e4c0fef0>,\n",
       " <folium.vector_layers.CircleMarker at 0x7fa7e4c0ff28>,\n",
       " <folium.vector_layers.CircleMarker at 0x7fa7e4c0ff60>,\n",
       " <folium.vector_layers.CircleMarker at 0x7fa7e4c0ff98>,\n",
       " <folium.vector_layers.CircleMarker at 0x7fa7e4c0ffd0>,\n",
       " <folium.vector_layers.CircleMarker at 0x7fa7e4c0f048>,\n",
       " <folium.vector_layers.CircleMarker at 0x7fa7e4c1d080>,\n",
       " <folium.vector_layers.CircleMarker at 0x7fa7e4c1d0b8>,\n",
       " <folium.vector_layers.CircleMarker at 0x7fa7e4c1d0f0>,\n",
       " <folium.vector_layers.CircleMarker at 0x7fa7e4c1d128>,\n",
       " <folium.vector_layers.CircleMarker at 0x7fa7e4c1d160>,\n",
       " <folium.vector_layers.CircleMarker at 0x7fa7e4c1d198>,\n",
       " <folium.vector_layers.CircleMarker at 0x7fa7e4c1d1d0>,\n",
       " <folium.vector_layers.CircleMarker at 0x7fa7e4c1d208>,\n",
       " <folium.vector_layers.CircleMarker at 0x7fa7e4c1d240>,\n",
       " <folium.vector_layers.CircleMarker at 0x7fa7e4c1d278>,\n",
       " <folium.vector_layers.CircleMarker at 0x7fa7e4c1d2b0>,\n",
       " <folium.vector_layers.CircleMarker at 0x7fa7e4c1d2e8>,\n",
       " <folium.vector_layers.CircleMarker at 0x7fa7e4c1d320>,\n",
       " <folium.vector_layers.CircleMarker at 0x7fa7e4c1d358>,\n",
       " <folium.vector_layers.CircleMarker at 0x7fa7e4c1d390>,\n",
       " <folium.vector_layers.CircleMarker at 0x7fa7e4c1d3c8>,\n",
       " <folium.vector_layers.CircleMarker at 0x7fa7e4c1d400>,\n",
       " <folium.vector_layers.CircleMarker at 0x7fa7e4c1d438>,\n",
       " <folium.vector_layers.CircleMarker at 0x7fa7e4c1d470>,\n",
       " <folium.vector_layers.CircleMarker at 0x7fa7e4c1d4a8>,\n",
       " <folium.vector_layers.CircleMarker at 0x7fa7e4c1d4e0>,\n",
       " <folium.vector_layers.CircleMarker at 0x7fa7e4c1d518>,\n",
       " <folium.vector_layers.CircleMarker at 0x7fa7e4c1d550>,\n",
       " <folium.vector_layers.CircleMarker at 0x7fa7e4c1d588>,\n",
       " <folium.vector_layers.CircleMarker at 0x7fa7e4c1d5c0>,\n",
       " <folium.vector_layers.CircleMarker at 0x7fa7e4c1d5f8>,\n",
       " <folium.vector_layers.CircleMarker at 0x7fa7e4c1d630>,\n",
       " <folium.vector_layers.CircleMarker at 0x7fa7e4c1d668>,\n",
       " <folium.vector_layers.CircleMarker at 0x7fa7e4c1d6a0>,\n",
       " <folium.vector_layers.CircleMarker at 0x7fa7e4c1d6d8>,\n",
       " <folium.vector_layers.CircleMarker at 0x7fa7e4c1d710>,\n",
       " <folium.vector_layers.CircleMarker at 0x7fa7e4c1d748>,\n",
       " <folium.vector_layers.CircleMarker at 0x7fa7e4c1d780>,\n",
       " <folium.vector_layers.CircleMarker at 0x7fa7e4c1d7b8>,\n",
       " <folium.vector_layers.CircleMarker at 0x7fa7e4c1d7f0>,\n",
       " <folium.vector_layers.CircleMarker at 0x7fa7e4c1d828>,\n",
       " <folium.vector_layers.CircleMarker at 0x7fa7e4c1d860>,\n",
       " <folium.vector_layers.CircleMarker at 0x7fa7e4c1d898>,\n",
       " <folium.vector_layers.CircleMarker at 0x7fa7e4c1d8d0>,\n",
       " <folium.vector_layers.CircleMarker at 0x7fa7e4c1d908>,\n",
       " <folium.vector_layers.CircleMarker at 0x7fa7e4c1d940>,\n",
       " <folium.vector_layers.CircleMarker at 0x7fa7e4c1d978>,\n",
       " <folium.vector_layers.CircleMarker at 0x7fa7e4c1d9b0>,\n",
       " <folium.vector_layers.CircleMarker at 0x7fa7e4c1d9e8>,\n",
       " <folium.vector_layers.CircleMarker at 0x7fa7e4c1da20>,\n",
       " <folium.vector_layers.CircleMarker at 0x7fa7e4c1da58>,\n",
       " <folium.vector_layers.CircleMarker at 0x7fa7e4c1da90>,\n",
       " <folium.vector_layers.CircleMarker at 0x7fa7e4c1dac8>,\n",
       " <folium.vector_layers.CircleMarker at 0x7fa7e4c1db00>,\n",
       " <folium.vector_layers.CircleMarker at 0x7fa7e4c1db38>,\n",
       " <folium.vector_layers.CircleMarker at 0x7fa7e4c1db70>,\n",
       " <folium.vector_layers.CircleMarker at 0x7fa7e4c1dba8>,\n",
       " <folium.vector_layers.CircleMarker at 0x7fa7e4c1dbe0>,\n",
       " <folium.vector_layers.CircleMarker at 0x7fa7e4c1dc18>,\n",
       " <folium.vector_layers.CircleMarker at 0x7fa7e4c1dc50>,\n",
       " <folium.vector_layers.CircleMarker at 0x7fa7e4c1dc88>,\n",
       " <folium.vector_layers.CircleMarker at 0x7fa7e4c1dcc0>,\n",
       " <folium.vector_layers.CircleMarker at 0x7fa7e4c1dcf8>,\n",
       " <folium.vector_layers.CircleMarker at 0x7fa7e4c1dd30>,\n",
       " <folium.vector_layers.CircleMarker at 0x7fa7e4c1dd68>,\n",
       " <folium.vector_layers.CircleMarker at 0x7fa7e4c1dda0>,\n",
       " <folium.vector_layers.CircleMarker at 0x7fa7e4c1ddd8>,\n",
       " <folium.vector_layers.CircleMarker at 0x7fa7e4c1de10>,\n",
       " <folium.vector_layers.CircleMarker at 0x7fa7e4c1de48>,\n",
       " <folium.vector_layers.CircleMarker at 0x7fa7e4c1de80>,\n",
       " <folium.vector_layers.CircleMarker at 0x7fa7e4c1deb8>,\n",
       " <folium.vector_layers.CircleMarker at 0x7fa7e4c1def0>,\n",
       " <folium.vector_layers.CircleMarker at 0x7fa7e4c1df28>,\n",
       " <folium.vector_layers.CircleMarker at 0x7fa7e4c1df60>,\n",
       " <folium.vector_layers.CircleMarker at 0x7fa7e4c1df98>,\n",
       " <folium.vector_layers.CircleMarker at 0x7fa7e4c1dfd0>,\n",
       " <folium.vector_layers.CircleMarker at 0x7fa7e4c1d048>,\n",
       " <folium.vector_layers.CircleMarker at 0x7fa7e4bab080>,\n",
       " <folium.vector_layers.CircleMarker at 0x7fa7e4bab0b8>,\n",
       " <folium.vector_layers.CircleMarker at 0x7fa7e4bab0f0>,\n",
       " <folium.vector_layers.CircleMarker at 0x7fa7e4bab128>,\n",
       " <folium.vector_layers.CircleMarker at 0x7fa7e4bab160>,\n",
       " <folium.vector_layers.CircleMarker at 0x7fa7e4bab198>,\n",
       " <folium.vector_layers.CircleMarker at 0x7fa7e4bab1d0>,\n",
       " <folium.vector_layers.CircleMarker at 0x7fa7e4bab208>,\n",
       " <folium.vector_layers.CircleMarker at 0x7fa7e4bab240>,\n",
       " <folium.vector_layers.CircleMarker at 0x7fa7e4bab278>,\n",
       " <folium.vector_layers.CircleMarker at 0x7fa7e4bab2b0>,\n",
       " <folium.vector_layers.CircleMarker at 0x7fa7e4bab2e8>,\n",
       " <folium.vector_layers.CircleMarker at 0x7fa7e4bab320>,\n",
       " <folium.vector_layers.CircleMarker at 0x7fa7e4bab358>,\n",
       " <folium.vector_layers.CircleMarker at 0x7fa7e4bab390>,\n",
       " <folium.vector_layers.CircleMarker at 0x7fa7e4bab3c8>,\n",
       " <folium.vector_layers.CircleMarker at 0x7fa7e4bab400>,\n",
       " <folium.vector_layers.CircleMarker at 0x7fa7e4bab438>,\n",
       " <folium.vector_layers.CircleMarker at 0x7fa7e4bab470>,\n",
       " <folium.vector_layers.CircleMarker at 0x7fa7e4bab4a8>,\n",
       " <folium.vector_layers.CircleMarker at 0x7fa7e4bab4e0>,\n",
       " <folium.vector_layers.CircleMarker at 0x7fa7e4bab518>,\n",
       " <folium.vector_layers.CircleMarker at 0x7fa7e4bab550>,\n",
       " <folium.vector_layers.CircleMarker at 0x7fa7e4bab588>,\n",
       " <folium.vector_layers.CircleMarker at 0x7fa7e4bab5c0>,\n",
       " <folium.vector_layers.CircleMarker at 0x7fa7e4bab5f8>,\n",
       " <folium.vector_layers.CircleMarker at 0x7fa7e4bab630>,\n",
       " <folium.vector_layers.CircleMarker at 0x7fa7e4bab668>,\n",
       " <folium.vector_layers.CircleMarker at 0x7fa7e4bab6a0>,\n",
       " <folium.vector_layers.CircleMarker at 0x7fa7e4bab6d8>,\n",
       " <folium.vector_layers.CircleMarker at 0x7fa7e4bab710>,\n",
       " <folium.vector_layers.CircleMarker at 0x7fa7e4bab748>,\n",
       " <folium.vector_layers.CircleMarker at 0x7fa7e4bab780>,\n",
       " <folium.vector_layers.CircleMarker at 0x7fa7e4bab7b8>,\n",
       " <folium.vector_layers.CircleMarker at 0x7fa7e4bab7f0>,\n",
       " <folium.vector_layers.CircleMarker at 0x7fa7e4bab828>,\n",
       " <folium.vector_layers.CircleMarker at 0x7fa7e4bab860>,\n",
       " <folium.vector_layers.CircleMarker at 0x7fa7e4bab898>,\n",
       " <folium.vector_layers.CircleMarker at 0x7fa7e4bab8d0>,\n",
       " <folium.vector_layers.CircleMarker at 0x7fa7e4bab908>,\n",
       " <folium.vector_layers.CircleMarker at 0x7fa7e4bab940>,\n",
       " <folium.vector_layers.CircleMarker at 0x7fa7e4bab978>,\n",
       " <folium.vector_layers.CircleMarker at 0x7fa7e4bab9b0>,\n",
       " <folium.vector_layers.CircleMarker at 0x7fa7e4bab9e8>,\n",
       " <folium.vector_layers.CircleMarker at 0x7fa7e4baba20>,\n",
       " <folium.vector_layers.CircleMarker at 0x7fa7e4baba58>,\n",
       " <folium.vector_layers.CircleMarker at 0x7fa7e4baba90>,\n",
       " <folium.vector_layers.CircleMarker at 0x7fa7e4babac8>,\n",
       " <folium.vector_layers.CircleMarker at 0x7fa7e4babb00>,\n",
       " <folium.vector_layers.CircleMarker at 0x7fa7e4babb38>,\n",
       " <folium.vector_layers.CircleMarker at 0x7fa7e4babb70>,\n",
       " <folium.vector_layers.CircleMarker at 0x7fa7e4babba8>,\n",
       " <folium.vector_layers.CircleMarker at 0x7fa7e4babbe0>,\n",
       " <folium.vector_layers.CircleMarker at 0x7fa7e4babc18>,\n",
       " <folium.vector_layers.CircleMarker at 0x7fa7e4babc50>,\n",
       " <folium.vector_layers.CircleMarker at 0x7fa7e4babc88>,\n",
       " <folium.vector_layers.CircleMarker at 0x7fa7e4babcc0>,\n",
       " <folium.vector_layers.CircleMarker at 0x7fa7e4babcf8>,\n",
       " <folium.vector_layers.CircleMarker at 0x7fa7e4babd30>,\n",
       " <folium.vector_layers.CircleMarker at 0x7fa7e4babd68>,\n",
       " <folium.vector_layers.CircleMarker at 0x7fa7e4babda0>,\n",
       " <folium.vector_layers.CircleMarker at 0x7fa7e4babdd8>,\n",
       " <folium.vector_layers.CircleMarker at 0x7fa7e4babe10>,\n",
       " <folium.vector_layers.CircleMarker at 0x7fa7e4babe48>,\n",
       " <folium.vector_layers.CircleMarker at 0x7fa7e4babe80>,\n",
       " <folium.vector_layers.CircleMarker at 0x7fa7e4babeb8>,\n",
       " <folium.vector_layers.CircleMarker at 0x7fa7e4babef0>,\n",
       " <folium.vector_layers.CircleMarker at 0x7fa7e4babf28>,\n",
       " <folium.vector_layers.CircleMarker at 0x7fa7e4babf60>,\n",
       " <folium.vector_layers.CircleMarker at 0x7fa7e4babf98>,\n",
       " <folium.vector_layers.CircleMarker at 0x7fa7e4babfd0>,\n",
       " <folium.vector_layers.CircleMarker at 0x7fa7e4bab048>,\n",
       " <folium.vector_layers.CircleMarker at 0x7fa7e4bb8080>,\n",
       " <folium.vector_layers.CircleMarker at 0x7fa7e4bb80b8>,\n",
       " <folium.vector_layers.CircleMarker at 0x7fa7e4bb80f0>,\n",
       " <folium.vector_layers.CircleMarker at 0x7fa7e4bb8128>,\n",
       " <folium.vector_layers.CircleMarker at 0x7fa7e4bb8160>,\n",
       " <folium.vector_layers.CircleMarker at 0x7fa7e4bb8198>,\n",
       " <folium.vector_layers.CircleMarker at 0x7fa7e4bb81d0>,\n",
       " <folium.vector_layers.CircleMarker at 0x7fa7e4bb8208>,\n",
       " <folium.vector_layers.CircleMarker at 0x7fa7e4bb8240>,\n",
       " <folium.vector_layers.CircleMarker at 0x7fa7e4bb8278>,\n",
       " <folium.vector_layers.CircleMarker at 0x7fa7e4bb82b0>,\n",
       " <folium.vector_layers.CircleMarker at 0x7fa7e4bb82e8>,\n",
       " <folium.vector_layers.CircleMarker at 0x7fa7e4bb8320>,\n",
       " <folium.vector_layers.CircleMarker at 0x7fa7e4bb8358>,\n",
       " <folium.vector_layers.CircleMarker at 0x7fa7e4bb8390>,\n",
       " <folium.vector_layers.CircleMarker at 0x7fa7e4bb83c8>,\n",
       " <folium.vector_layers.CircleMarker at 0x7fa7e4bb8400>,\n",
       " <folium.vector_layers.CircleMarker at 0x7fa7e4bb8438>,\n",
       " <folium.vector_layers.CircleMarker at 0x7fa7e4bb8470>,\n",
       " <folium.vector_layers.CircleMarker at 0x7fa7e4bb84a8>,\n",
       " <folium.vector_layers.CircleMarker at 0x7fa7e4bb84e0>,\n",
       " <folium.vector_layers.CircleMarker at 0x7fa7e4bb8518>,\n",
       " <folium.vector_layers.CircleMarker at 0x7fa7e4bb8550>,\n",
       " <folium.vector_layers.CircleMarker at 0x7fa7e4bb8588>,\n",
       " <folium.vector_layers.CircleMarker at 0x7fa7e4bb85c0>,\n",
       " <folium.vector_layers.CircleMarker at 0x7fa7e4bb85f8>,\n",
       " <folium.vector_layers.CircleMarker at 0x7fa7e4bb8630>,\n",
       " <folium.vector_layers.CircleMarker at 0x7fa7e4bb8668>,\n",
       " <folium.vector_layers.CircleMarker at 0x7fa7e4bb86a0>,\n",
       " <folium.vector_layers.CircleMarker at 0x7fa7e4bb86d8>,\n",
       " <folium.vector_layers.CircleMarker at 0x7fa7e4bb8710>,\n",
       " <folium.vector_layers.CircleMarker at 0x7fa7e4bb8748>,\n",
       " <folium.vector_layers.CircleMarker at 0x7fa7e4bb8780>,\n",
       " <folium.vector_layers.CircleMarker at 0x7fa7e4bb87b8>,\n",
       " <folium.vector_layers.CircleMarker at 0x7fa7e4bb87f0>,\n",
       " <folium.vector_layers.CircleMarker at 0x7fa7e4bb8828>,\n",
       " <folium.vector_layers.CircleMarker at 0x7fa7e4bb8860>,\n",
       " <folium.vector_layers.CircleMarker at 0x7fa7e4bb8898>,\n",
       " <folium.vector_layers.CircleMarker at 0x7fa7e4bb88d0>,\n",
       " <folium.vector_layers.CircleMarker at 0x7fa7e4bb8908>,\n",
       " <folium.vector_layers.CircleMarker at 0x7fa7e4bb8940>,\n",
       " <folium.vector_layers.CircleMarker at 0x7fa7e4bb8978>,\n",
       " <folium.vector_layers.CircleMarker at 0x7fa7e4bb89b0>,\n",
       " <folium.vector_layers.CircleMarker at 0x7fa7e4bb89e8>,\n",
       " <folium.vector_layers.CircleMarker at 0x7fa7e4bb8a20>,\n",
       " <folium.vector_layers.CircleMarker at 0x7fa7e4bb8a58>,\n",
       " <folium.vector_layers.CircleMarker at 0x7fa7e4bb8a90>,\n",
       " <folium.vector_layers.CircleMarker at 0x7fa7e4bb8ac8>,\n",
       " <folium.vector_layers.CircleMarker at 0x7fa7e4bb8b00>,\n",
       " <folium.vector_layers.CircleMarker at 0x7fa7e4bb8b38>,\n",
       " <folium.vector_layers.CircleMarker at 0x7fa7e4bb8b70>,\n",
       " <folium.vector_layers.CircleMarker at 0x7fa7e4bb8ba8>,\n",
       " <folium.vector_layers.CircleMarker at 0x7fa7e4bb8be0>,\n",
       " <folium.vector_layers.CircleMarker at 0x7fa7e4bb8c18>,\n",
       " <folium.vector_layers.CircleMarker at 0x7fa7e4bb8c50>,\n",
       " <folium.vector_layers.CircleMarker at 0x7fa7e4bb8c88>,\n",
       " <folium.vector_layers.CircleMarker at 0x7fa7e4bb8cc0>,\n",
       " <folium.vector_layers.CircleMarker at 0x7fa7e4bb8cf8>,\n",
       " <folium.vector_layers.CircleMarker at 0x7fa7e4bb8d30>,\n",
       " <folium.vector_layers.CircleMarker at 0x7fa7e4bb8d68>,\n",
       " <folium.vector_layers.CircleMarker at 0x7fa7e4bb8da0>,\n",
       " <folium.vector_layers.CircleMarker at 0x7fa7e4bb8dd8>,\n",
       " <folium.vector_layers.CircleMarker at 0x7fa7e4bb8e10>,\n",
       " <folium.vector_layers.CircleMarker at 0x7fa7e4bb8e48>,\n",
       " <folium.vector_layers.CircleMarker at 0x7fa7e4bb8e80>,\n",
       " <folium.vector_layers.CircleMarker at 0x7fa7e4bb8eb8>,\n",
       " <folium.vector_layers.CircleMarker at 0x7fa7e4bb8ef0>,\n",
       " <folium.vector_layers.CircleMarker at 0x7fa7e4bb8f28>,\n",
       " <folium.vector_layers.CircleMarker at 0x7fa7e4bb8f60>,\n",
       " <folium.vector_layers.CircleMarker at 0x7fa7e4bb8f98>,\n",
       " <folium.vector_layers.CircleMarker at 0x7fa7e4bb8fd0>,\n",
       " <folium.vector_layers.CircleMarker at 0x7fa7e4bb8048>,\n",
       " <folium.vector_layers.CircleMarker at 0x7fa7e4bc6080>,\n",
       " <folium.vector_layers.CircleMarker at 0x7fa7e4bc60b8>,\n",
       " <folium.vector_layers.CircleMarker at 0x7fa7e4bc60f0>,\n",
       " <folium.vector_layers.CircleMarker at 0x7fa7e4bc6128>,\n",
       " <folium.vector_layers.CircleMarker at 0x7fa7e4bc6160>,\n",
       " <folium.vector_layers.CircleMarker at 0x7fa7e4bc6198>,\n",
       " <folium.vector_layers.CircleMarker at 0x7fa7e4bc61d0>,\n",
       " <folium.vector_layers.CircleMarker at 0x7fa7e4bc6208>,\n",
       " <folium.vector_layers.CircleMarker at 0x7fa7e4bc6240>,\n",
       " <folium.vector_layers.CircleMarker at 0x7fa7e4bc6278>,\n",
       " <folium.vector_layers.CircleMarker at 0x7fa7e4bc62b0>,\n",
       " <folium.vector_layers.CircleMarker at 0x7fa7e4bc62e8>,\n",
       " <folium.vector_layers.CircleMarker at 0x7fa7e4bc6320>,\n",
       " <folium.vector_layers.CircleMarker at 0x7fa7e4bc6358>,\n",
       " <folium.vector_layers.CircleMarker at 0x7fa7e4bc6390>,\n",
       " <folium.vector_layers.CircleMarker at 0x7fa7e4bc63c8>,\n",
       " <folium.vector_layers.CircleMarker at 0x7fa7e4bc6400>,\n",
       " <folium.vector_layers.CircleMarker at 0x7fa7e4bc6438>,\n",
       " <folium.vector_layers.CircleMarker at 0x7fa7e4bc6470>,\n",
       " <folium.vector_layers.CircleMarker at 0x7fa7e4bc64a8>,\n",
       " <folium.vector_layers.CircleMarker at 0x7fa7e4bc64e0>,\n",
       " <folium.vector_layers.CircleMarker at 0x7fa7e4bc6518>,\n",
       " <folium.vector_layers.CircleMarker at 0x7fa7e4bc6550>,\n",
       " <folium.vector_layers.CircleMarker at 0x7fa7e4bc6588>,\n",
       " <folium.vector_layers.CircleMarker at 0x7fa7e4bc65c0>,\n",
       " <folium.vector_layers.CircleMarker at 0x7fa7e4bc65f8>,\n",
       " <folium.vector_layers.CircleMarker at 0x7fa7e4bc6630>,\n",
       " <folium.vector_layers.CircleMarker at 0x7fa7e4bc6668>,\n",
       " <folium.vector_layers.CircleMarker at 0x7fa7e4bc66a0>,\n",
       " <folium.vector_layers.CircleMarker at 0x7fa7e4bc66d8>,\n",
       " <folium.vector_layers.CircleMarker at 0x7fa7e4bc6710>,\n",
       " <folium.vector_layers.CircleMarker at 0x7fa7e4bc6748>,\n",
       " <folium.vector_layers.CircleMarker at 0x7fa7e4bc6780>,\n",
       " <folium.vector_layers.CircleMarker at 0x7fa7e4bc67b8>,\n",
       " <folium.vector_layers.CircleMarker at 0x7fa7e4bc67f0>,\n",
       " <folium.vector_layers.CircleMarker at 0x7fa7e4bc6828>,\n",
       " <folium.vector_layers.CircleMarker at 0x7fa7e4bc6860>,\n",
       " <folium.vector_layers.CircleMarker at 0x7fa7e4bc6898>,\n",
       " <folium.vector_layers.CircleMarker at 0x7fa7e4bc68d0>,\n",
       " <folium.vector_layers.CircleMarker at 0x7fa7e4bc6908>,\n",
       " <folium.vector_layers.CircleMarker at 0x7fa7e4bc6940>,\n",
       " <folium.vector_layers.CircleMarker at 0x7fa7e4bc6978>,\n",
       " <folium.vector_layers.CircleMarker at 0x7fa7e4bc69b0>,\n",
       " <folium.vector_layers.CircleMarker at 0x7fa7e4bc69e8>,\n",
       " <folium.vector_layers.CircleMarker at 0x7fa7e4bc6a20>,\n",
       " <folium.vector_layers.CircleMarker at 0x7fa7e4bc6a58>,\n",
       " <folium.vector_layers.CircleMarker at 0x7fa7e4bc6a90>,\n",
       " <folium.vector_layers.CircleMarker at 0x7fa7e4bc6ac8>,\n",
       " <folium.vector_layers.CircleMarker at 0x7fa7e4bc6b00>,\n",
       " <folium.vector_layers.CircleMarker at 0x7fa7e4bc6b38>,\n",
       " <folium.vector_layers.CircleMarker at 0x7fa7e4bc6b70>,\n",
       " <folium.vector_layers.CircleMarker at 0x7fa7e4bc6ba8>,\n",
       " <folium.vector_layers.CircleMarker at 0x7fa7e4bc6be0>,\n",
       " <folium.vector_layers.CircleMarker at 0x7fa7e4bc6c18>,\n",
       " <folium.vector_layers.CircleMarker at 0x7fa7e4bc6c50>,\n",
       " <folium.vector_layers.CircleMarker at 0x7fa7e4bc6c88>,\n",
       " <folium.vector_layers.CircleMarker at 0x7fa7e4bc6cc0>,\n",
       " <folium.vector_layers.CircleMarker at 0x7fa7e4bc6cf8>,\n",
       " <folium.vector_layers.CircleMarker at 0x7fa7e4bc6d30>,\n",
       " <folium.vector_layers.CircleMarker at 0x7fa7e4bc6d68>,\n",
       " <folium.vector_layers.CircleMarker at 0x7fa7e4bc6da0>,\n",
       " <folium.vector_layers.CircleMarker at 0x7fa7e4bc6dd8>,\n",
       " <folium.vector_layers.CircleMarker at 0x7fa7e4bc6e10>,\n",
       " <folium.vector_layers.CircleMarker at 0x7fa7e4bc6e48>,\n",
       " <folium.vector_layers.CircleMarker at 0x7fa7e4bc6e80>,\n",
       " <folium.vector_layers.CircleMarker at 0x7fa7e4bc6eb8>,\n",
       " <folium.vector_layers.CircleMarker at 0x7fa7e4bc6ef0>,\n",
       " <folium.vector_layers.CircleMarker at 0x7fa7e4bc6f28>,\n",
       " <folium.vector_layers.CircleMarker at 0x7fa7e4bc6f60>,\n",
       " <folium.vector_layers.CircleMarker at 0x7fa7e4bc6f98>,\n",
       " <folium.vector_layers.CircleMarker at 0x7fa7e4bc6fd0>,\n",
       " <folium.vector_layers.CircleMarker at 0x7fa7e4bc6048>,\n",
       " <folium.vector_layers.CircleMarker at 0x7fa7e4bd4048>,\n",
       " <folium.vector_layers.CircleMarker at 0x7fa7e4bd40b8>,\n",
       " <folium.vector_layers.CircleMarker at 0x7fa7e4bd40f0>,\n",
       " <folium.vector_layers.CircleMarker at 0x7fa7e4bd4128>,\n",
       " <folium.vector_layers.CircleMarker at 0x7fa7e4bd4160>,\n",
       " <folium.vector_layers.CircleMarker at 0x7fa7e4bd4198>,\n",
       " <folium.vector_layers.CircleMarker at 0x7fa7e4bd41d0>,\n",
       " <folium.vector_layers.CircleMarker at 0x7fa7e4bd4208>,\n",
       " <folium.vector_layers.CircleMarker at 0x7fa7e4bd4240>,\n",
       " <folium.vector_layers.CircleMarker at 0x7fa7e4bd4278>,\n",
       " <folium.vector_layers.CircleMarker at 0x7fa7e4bd42b0>,\n",
       " <folium.vector_layers.CircleMarker at 0x7fa7e4bd42e8>,\n",
       " <folium.vector_layers.CircleMarker at 0x7fa7e4bd4320>,\n",
       " <folium.vector_layers.CircleMarker at 0x7fa7e4bd4358>,\n",
       " <folium.vector_layers.CircleMarker at 0x7fa7e4bd4390>,\n",
       " <folium.vector_layers.CircleMarker at 0x7fa7e4bd43c8>,\n",
       " <folium.vector_layers.CircleMarker at 0x7fa7e4bd4400>,\n",
       " <folium.vector_layers.CircleMarker at 0x7fa7e4bd4438>,\n",
       " <folium.vector_layers.CircleMarker at 0x7fa7e4bd4470>,\n",
       " <folium.vector_layers.CircleMarker at 0x7fa7e4bd44a8>,\n",
       " <folium.vector_layers.CircleMarker at 0x7fa7e4bd44e0>,\n",
       " <folium.vector_layers.CircleMarker at 0x7fa7e4bd4518>,\n",
       " <folium.vector_layers.CircleMarker at 0x7fa7e4bd4550>,\n",
       " <folium.vector_layers.CircleMarker at 0x7fa7e4bd4588>,\n",
       " <folium.vector_layers.CircleMarker at 0x7fa7e4bd45c0>,\n",
       " <folium.vector_layers.CircleMarker at 0x7fa7e4bd45f8>,\n",
       " <folium.vector_layers.CircleMarker at 0x7fa7e4bd4630>,\n",
       " <folium.vector_layers.CircleMarker at 0x7fa7e4bd4668>,\n",
       " <folium.vector_layers.CircleMarker at 0x7fa7e4bd46a0>,\n",
       " <folium.vector_layers.CircleMarker at 0x7fa7e4bd46d8>,\n",
       " <folium.vector_layers.CircleMarker at 0x7fa7e4bd4710>,\n",
       " <folium.vector_layers.CircleMarker at 0x7fa7e4bd4748>,\n",
       " <folium.vector_layers.CircleMarker at 0x7fa7e4bd4780>,\n",
       " <folium.vector_layers.CircleMarker at 0x7fa7e4bd47b8>,\n",
       " <folium.vector_layers.CircleMarker at 0x7fa7e4bd47f0>,\n",
       " <folium.vector_layers.CircleMarker at 0x7fa7e4bd4828>,\n",
       " <folium.vector_layers.CircleMarker at 0x7fa7e4bd4860>,\n",
       " <folium.vector_layers.CircleMarker at 0x7fa7e4bd4898>,\n",
       " <folium.vector_layers.CircleMarker at 0x7fa7e4bd48d0>,\n",
       " <folium.vector_layers.CircleMarker at 0x7fa7e4bd4908>,\n",
       " <folium.vector_layers.CircleMarker at 0x7fa7e4bd4940>,\n",
       " <folium.vector_layers.CircleMarker at 0x7fa7e4bd4978>,\n",
       " <folium.vector_layers.CircleMarker at 0x7fa7e4bd49b0>,\n",
       " <folium.vector_layers.CircleMarker at 0x7fa7e4bd49e8>,\n",
       " <folium.vector_layers.CircleMarker at 0x7fa7e4bd4a20>,\n",
       " <folium.vector_layers.CircleMarker at 0x7fa7e4bd4a58>,\n",
       " <folium.vector_layers.CircleMarker at 0x7fa7e4bd4a90>,\n",
       " <folium.vector_layers.CircleMarker at 0x7fa7e4bd4ac8>,\n",
       " <folium.vector_layers.CircleMarker at 0x7fa7e4bd4b00>,\n",
       " <folium.vector_layers.CircleMarker at 0x7fa7e4bd4b38>,\n",
       " <folium.vector_layers.CircleMarker at 0x7fa7e4bd4b70>,\n",
       " <folium.vector_layers.CircleMarker at 0x7fa7e4bd4ba8>,\n",
       " <folium.vector_layers.CircleMarker at 0x7fa7e4bd4be0>,\n",
       " <folium.vector_layers.CircleMarker at 0x7fa7e4bd4c18>,\n",
       " <folium.vector_layers.CircleMarker at 0x7fa7e4bd4c50>,\n",
       " <folium.vector_layers.CircleMarker at 0x7fa7e4bd4c88>,\n",
       " <folium.vector_layers.CircleMarker at 0x7fa7e4bd4cc0>,\n",
       " <folium.vector_layers.CircleMarker at 0x7fa7e4bd4cf8>,\n",
       " <folium.vector_layers.CircleMarker at 0x7fa7e4bd4d30>,\n",
       " <folium.vector_layers.CircleMarker at 0x7fa7e4bd4d68>,\n",
       " <folium.vector_layers.CircleMarker at 0x7fa7e4bd4da0>,\n",
       " <folium.vector_layers.CircleMarker at 0x7fa7e4bd4dd8>,\n",
       " <folium.vector_layers.CircleMarker at 0x7fa7e4bd4e10>,\n",
       " <folium.vector_layers.CircleMarker at 0x7fa7e4bd4e48>,\n",
       " <folium.vector_layers.CircleMarker at 0x7fa7e4bd4e80>,\n",
       " <folium.vector_layers.CircleMarker at 0x7fa7e4bd4eb8>,\n",
       " <folium.vector_layers.CircleMarker at 0x7fa7e4bd4ef0>,\n",
       " <folium.vector_layers.CircleMarker at 0x7fa7e4bd4f28>,\n",
       " <folium.vector_layers.CircleMarker at 0x7fa7e4bd4f60>,\n",
       " <folium.vector_layers.CircleMarker at 0x7fa7e4bd4f98>,\n",
       " <folium.vector_layers.CircleMarker at 0x7fa7e4bd4fd0>,\n",
       " <folium.vector_layers.CircleMarker at 0x7fa7e4bd4080>,\n",
       " <folium.vector_layers.CircleMarker at 0x7fa7e4be1080>,\n",
       " <folium.vector_layers.CircleMarker at 0x7fa7e4be10b8>,\n",
       " <folium.vector_layers.CircleMarker at 0x7fa7e4be10f0>,\n",
       " <folium.vector_layers.CircleMarker at 0x7fa7e4be1128>,\n",
       " <folium.vector_layers.CircleMarker at 0x7fa7e4be1160>,\n",
       " <folium.vector_layers.CircleMarker at 0x7fa7e4be1198>,\n",
       " <folium.vector_layers.CircleMarker at 0x7fa7e4be11d0>,\n",
       " <folium.vector_layers.CircleMarker at 0x7fa7e4be1208>,\n",
       " <folium.vector_layers.CircleMarker at 0x7fa7e4be1240>,\n",
       " <folium.vector_layers.CircleMarker at 0x7fa7e4be1278>,\n",
       " <folium.vector_layers.CircleMarker at 0x7fa7e4be12b0>,\n",
       " <folium.vector_layers.CircleMarker at 0x7fa7e4be12e8>,\n",
       " <folium.vector_layers.CircleMarker at 0x7fa7e4be1320>,\n",
       " <folium.vector_layers.CircleMarker at 0x7fa7e4be1358>,\n",
       " <folium.vector_layers.CircleMarker at 0x7fa7e4be1390>,\n",
       " <folium.vector_layers.CircleMarker at 0x7fa7e4be13c8>,\n",
       " <folium.vector_layers.CircleMarker at 0x7fa7e4be1400>,\n",
       " <folium.vector_layers.CircleMarker at 0x7fa7e4be1438>,\n",
       " <folium.vector_layers.CircleMarker at 0x7fa7e4be1470>,\n",
       " <folium.vector_layers.CircleMarker at 0x7fa7e4be14a8>,\n",
       " <folium.vector_layers.CircleMarker at 0x7fa7e4be14e0>,\n",
       " <folium.vector_layers.CircleMarker at 0x7fa7e4be1518>,\n",
       " <folium.vector_layers.CircleMarker at 0x7fa7e4be1550>,\n",
       " <folium.vector_layers.CircleMarker at 0x7fa7e4be1588>,\n",
       " <folium.vector_layers.CircleMarker at 0x7fa7e4be15c0>,\n",
       " <folium.vector_layers.CircleMarker at 0x7fa7e4be15f8>,\n",
       " <folium.vector_layers.CircleMarker at 0x7fa7e4be1630>,\n",
       " <folium.vector_layers.CircleMarker at 0x7fa7e4be1668>,\n",
       " <folium.vector_layers.CircleMarker at 0x7fa7e4be16a0>,\n",
       " <folium.vector_layers.CircleMarker at 0x7fa7e4be16d8>,\n",
       " <folium.vector_layers.CircleMarker at 0x7fa7e4be1710>,\n",
       " <folium.vector_layers.CircleMarker at 0x7fa7e4be1748>,\n",
       " <folium.vector_layers.CircleMarker at 0x7fa7e4be1780>,\n",
       " <folium.vector_layers.CircleMarker at 0x7fa7e4be17b8>,\n",
       " <folium.vector_layers.CircleMarker at 0x7fa7e4be17f0>,\n",
       " <folium.vector_layers.CircleMarker at 0x7fa7e4be1828>,\n",
       " <folium.vector_layers.CircleMarker at 0x7fa7e4be1860>,\n",
       " <folium.vector_layers.CircleMarker at 0x7fa7e4be1898>,\n",
       " <folium.vector_layers.CircleMarker at 0x7fa7e4be18d0>,\n",
       " <folium.vector_layers.CircleMarker at 0x7fa7e4be1908>,\n",
       " <folium.vector_layers.CircleMarker at 0x7fa7e4be1940>,\n",
       " <folium.vector_layers.CircleMarker at 0x7fa7e4be1978>,\n",
       " <folium.vector_layers.CircleMarker at 0x7fa7e4be19b0>,\n",
       " <folium.vector_layers.CircleMarker at 0x7fa7e4be19e8>,\n",
       " <folium.vector_layers.CircleMarker at 0x7fa7e4be1a20>,\n",
       " <folium.vector_layers.CircleMarker at 0x7fa7e4be1a58>,\n",
       " <folium.vector_layers.CircleMarker at 0x7fa7e4be1a90>,\n",
       " <folium.vector_layers.CircleMarker at 0x7fa7e4be1ac8>,\n",
       " <folium.vector_layers.CircleMarker at 0x7fa7e4be1b00>,\n",
       " <folium.vector_layers.CircleMarker at 0x7fa7e4be1b38>,\n",
       " <folium.vector_layers.CircleMarker at 0x7fa7e4be1b70>,\n",
       " <folium.vector_layers.CircleMarker at 0x7fa7e4be1ba8>,\n",
       " <folium.vector_layers.CircleMarker at 0x7fa7e4be1be0>,\n",
       " <folium.vector_layers.CircleMarker at 0x7fa7e4be1c18>,\n",
       " <folium.vector_layers.CircleMarker at 0x7fa7e4be1c50>,\n",
       " <folium.vector_layers.CircleMarker at 0x7fa7e4be1c88>,\n",
       " <folium.vector_layers.CircleMarker at 0x7fa7e4be1cc0>,\n",
       " <folium.vector_layers.CircleMarker at 0x7fa7e4be1cf8>,\n",
       " <folium.vector_layers.CircleMarker at 0x7fa7e4be1d30>,\n",
       " <folium.vector_layers.CircleMarker at 0x7fa7e4be1d68>,\n",
       " <folium.vector_layers.CircleMarker at 0x7fa7e4be1da0>,\n",
       " <folium.vector_layers.CircleMarker at 0x7fa7e4be1dd8>,\n",
       " <folium.vector_layers.CircleMarker at 0x7fa7e4be1e10>,\n",
       " <folium.vector_layers.CircleMarker at 0x7fa7e4be1e48>,\n",
       " <folium.vector_layers.CircleMarker at 0x7fa7e4be1e80>,\n",
       " <folium.vector_layers.CircleMarker at 0x7fa7e4be1eb8>,\n",
       " <folium.vector_layers.CircleMarker at 0x7fa7e4be1ef0>,\n",
       " <folium.vector_layers.CircleMarker at 0x7fa7e4be1f28>,\n",
       " <folium.vector_layers.CircleMarker at 0x7fa7e4be1f60>,\n",
       " <folium.vector_layers.CircleMarker at 0x7fa7e4be1f98>,\n",
       " <folium.vector_layers.CircleMarker at 0x7fa7e4be1fd0>,\n",
       " <folium.vector_layers.CircleMarker at 0x7fa7e4be1048>,\n",
       " <folium.vector_layers.CircleMarker at 0x7fa7e4b6f080>,\n",
       " <folium.vector_layers.CircleMarker at 0x7fa7e4b6f0b8>,\n",
       " <folium.vector_layers.CircleMarker at 0x7fa7e4b6f0f0>,\n",
       " <folium.vector_layers.CircleMarker at 0x7fa7e4b6f128>,\n",
       " <folium.vector_layers.CircleMarker at 0x7fa7e4b6f160>,\n",
       " <folium.vector_layers.CircleMarker at 0x7fa7e4b6f198>,\n",
       " <folium.vector_layers.CircleMarker at 0x7fa7e4b6f1d0>,\n",
       " <folium.vector_layers.CircleMarker at 0x7fa7e4b6f208>,\n",
       " <folium.vector_layers.CircleMarker at 0x7fa7e4b6f240>,\n",
       " <folium.vector_layers.CircleMarker at 0x7fa7e4b6f278>,\n",
       " <folium.vector_layers.CircleMarker at 0x7fa7e4b6f2b0>,\n",
       " <folium.vector_layers.CircleMarker at 0x7fa7e4b6f2e8>,\n",
       " <folium.vector_layers.CircleMarker at 0x7fa7e4b6f320>,\n",
       " <folium.vector_layers.CircleMarker at 0x7fa7e4b6f358>,\n",
       " <folium.vector_layers.CircleMarker at 0x7fa7e4b6f390>,\n",
       " <folium.vector_layers.CircleMarker at 0x7fa7e4b6f3c8>,\n",
       " <folium.vector_layers.CircleMarker at 0x7fa7e4b6f400>,\n",
       " <folium.vector_layers.CircleMarker at 0x7fa7e4b6f438>,\n",
       " <folium.vector_layers.CircleMarker at 0x7fa7e4b6f470>,\n",
       " <folium.vector_layers.CircleMarker at 0x7fa7e4b6f4a8>,\n",
       " <folium.vector_layers.CircleMarker at 0x7fa7e4b6f4e0>,\n",
       " <folium.vector_layers.CircleMarker at 0x7fa7e4b6f518>,\n",
       " <folium.vector_layers.CircleMarker at 0x7fa7e4b6f550>,\n",
       " <folium.vector_layers.CircleMarker at 0x7fa7e4b6f588>,\n",
       " <folium.vector_layers.CircleMarker at 0x7fa7e4b6f5c0>,\n",
       " <folium.vector_layers.CircleMarker at 0x7fa7e4b6f5f8>,\n",
       " <folium.vector_layers.CircleMarker at 0x7fa7e4b6f630>,\n",
       " <folium.vector_layers.CircleMarker at 0x7fa7e4b6f668>,\n",
       " <folium.vector_layers.CircleMarker at 0x7fa7e4b6f6a0>,\n",
       " <folium.vector_layers.CircleMarker at 0x7fa7e4b6f6d8>,\n",
       " <folium.vector_layers.CircleMarker at 0x7fa7e4b6f710>,\n",
       " <folium.vector_layers.CircleMarker at 0x7fa7e4b6f748>,\n",
       " <folium.vector_layers.CircleMarker at 0x7fa7e4b6f780>,\n",
       " <folium.vector_layers.CircleMarker at 0x7fa7e4b6f7b8>,\n",
       " <folium.vector_layers.CircleMarker at 0x7fa7e4b6f7f0>,\n",
       " <folium.vector_layers.CircleMarker at 0x7fa7e4b6f828>,\n",
       " <folium.vector_layers.CircleMarker at 0x7fa7e4b6f860>,\n",
       " <folium.vector_layers.CircleMarker at 0x7fa7e4b6f898>,\n",
       " <folium.vector_layers.CircleMarker at 0x7fa7e4b6f8d0>,\n",
       " <folium.vector_layers.CircleMarker at 0x7fa7e4b6f908>,\n",
       " <folium.vector_layers.CircleMarker at 0x7fa7e4b6f940>,\n",
       " <folium.vector_layers.CircleMarker at 0x7fa7e4b6f978>,\n",
       " <folium.vector_layers.CircleMarker at 0x7fa7e4b6f9b0>,\n",
       " <folium.vector_layers.CircleMarker at 0x7fa7e4b6f9e8>,\n",
       " <folium.vector_layers.CircleMarker at 0x7fa7e4b6fa20>,\n",
       " <folium.vector_layers.CircleMarker at 0x7fa7e4b6fa58>,\n",
       " <folium.vector_layers.CircleMarker at 0x7fa7e4b6fa90>,\n",
       " <folium.vector_layers.CircleMarker at 0x7fa7e4b6fac8>,\n",
       " <folium.vector_layers.CircleMarker at 0x7fa7e4b6fb00>,\n",
       " <folium.vector_layers.CircleMarker at 0x7fa7e4b6fb38>,\n",
       " <folium.vector_layers.CircleMarker at 0x7fa7e4b6fb70>,\n",
       " <folium.vector_layers.CircleMarker at 0x7fa7e4b6fba8>,\n",
       " <folium.vector_layers.CircleMarker at 0x7fa7e4b6fbe0>,\n",
       " <folium.vector_layers.CircleMarker at 0x7fa7e4b6fc18>,\n",
       " <folium.vector_layers.CircleMarker at 0x7fa7e4b6fc50>,\n",
       " <folium.vector_layers.CircleMarker at 0x7fa7e4b6fc88>,\n",
       " <folium.vector_layers.CircleMarker at 0x7fa7e4b6fcc0>,\n",
       " <folium.vector_layers.CircleMarker at 0x7fa7e4b6fcf8>,\n",
       " <folium.vector_layers.CircleMarker at 0x7fa7e4b6fd30>,\n",
       " <folium.vector_layers.CircleMarker at 0x7fa7e4b6fd68>,\n",
       " <folium.vector_layers.CircleMarker at 0x7fa7e4b6fda0>,\n",
       " <folium.vector_layers.CircleMarker at 0x7fa7e4b6fdd8>,\n",
       " <folium.vector_layers.CircleMarker at 0x7fa7e4b6fe10>,\n",
       " <folium.vector_layers.CircleMarker at 0x7fa7e4b6fe48>,\n",
       " <folium.vector_layers.CircleMarker at 0x7fa7e4b6fe80>,\n",
       " <folium.vector_layers.CircleMarker at 0x7fa7e4b6feb8>]"
      ]
     },
     "execution_count": 50,
     "metadata": {},
     "output_type": "execute_result"
    }
   ],
   "source": [
    "map_with_markers"
   ]
  },
  {
   "cell_type": "markdown",
   "metadata": {},
   "source": [
    "### Using Nearest Neighbors"
   ]
  },
  {
   "cell_type": "markdown",
   "metadata": {},
   "source": [
    "Ok, let's write a function that given a latitude and longitude will predict the distance for us.  We'll do this by first finding the nearest trips given a latitude and longitude. "
   ]
  },
  {
   "cell_type": "markdown",
   "metadata": {},
   "source": [
    "Here we once again apply the nearest neighbors formula. As a first step, write a function named `distance_location` that calculates the distance in pickup location between two trips."
   ]
  },
  {
   "cell_type": "code",
   "execution_count": null,
   "metadata": {},
   "outputs": [],
   "source": [
    "import math\n",
    "\n",
    "def distance_location(selected_trip, neighbor_trip):\n",
    "    pass"
   ]
  },
  {
   "cell_type": "code",
   "execution_count": null,
   "metadata": {},
   "outputs": [],
   "source": [
    "first_trip = {'pickup_latitude': 40.64499, 'pickup_longitude': -73.78115, 'trip_distance': 18.38}\n",
    "second_trip = {'pickup_latitude': 40.766931, 'pickup_longitude': -73.982098, 'trip_distance': 1.3}\n",
    "distance_first_and_second = distance_location(first_trip, second_trip)\n",
    "\n",
    "distance_first_and_second and round(distance_first_and_second, 3) # 0.235"
   ]
  },
  {
   "cell_type": "markdown",
   "metadata": {},
   "source": [
    "Ok, next write a function called `distance_between_neighbors` that adds a new key-value pair, called `distance_from_selected`, that calculates the distance of the `neighbor_trip` from the `selected_trip`."
   ]
  },
  {
   "cell_type": "code",
   "execution_count": null,
   "metadata": {},
   "outputs": [],
   "source": [
    "def distance_between_neighbors(selected_trip, neighbor_trip):\n",
    "    pass"
   ]
  },
  {
   "cell_type": "code",
   "execution_count": null,
   "metadata": {},
   "outputs": [],
   "source": [
    "distance_between_neighbors(first_trip, second_trip)\n",
    "\n",
    "# {'distance_from_selected': 0.23505256047318146,\n",
    "#  'pickup_latitude': 40.766931,\n",
    "#  'pickup_longitude': -73.982098,\n",
    "#  'trip_distance': 1.3}"
   ]
  },
  {
   "cell_type": "markdown",
   "metadata": {},
   "source": [
    "Ok, now our `neighbor_trip` has another attribute called `distance_from_selected`, that indicates the distance from the `neighbor_trip`'s pickup location from the `selected_trip`."
   ]
  },
  {
   "cell_type": "markdown",
   "metadata": {},
   "source": [
    "> ** Understand the data:** Our dictionary now has a few attributes, two of which say distance.  Let's make sure we understand the difference. \n",
    "> * **`distance_from_selected`:** This is our calculation of the distance of the neighbor's pickup location from the selected trip.\n",
    "> * **`trip_distance`:** This is the attribute we were provided initially.  It tells us the length of the neighbor's taxi trip from pickup to drop-off.  "
   ]
  },
  {
   "cell_type": "markdown",
   "metadata": {},
   "source": [
    "Next, write a function called `distance_all` that provided a list of neighbors, returns each of those neighbors with their respective `distance_from_selected` numbers."
   ]
  },
  {
   "cell_type": "code",
   "execution_count": null,
   "metadata": {},
   "outputs": [],
   "source": [
    "def distance_all(selected_individual, neighbors):\n",
    "    pass"
   ]
  },
  {
   "cell_type": "code",
   "execution_count": null,
   "metadata": {},
   "outputs": [],
   "source": [
    "cleaned_trips and distance_all(first_trip, cleaned_trips[0:4])"
   ]
  },
  {
   "cell_type": "markdown",
   "metadata": {},
   "source": [
    "Now write the nearest neighbors formula to calculate the distance of the `selected_trip` from all of the `cleaned_trips` in our dataset.  If no number is provided, it should return the top 3 neighbors."
   ]
  },
  {
   "cell_type": "code",
   "execution_count": null,
   "metadata": {},
   "outputs": [],
   "source": [
    "def nearest_neighbors(selected_trip, trips, number = 3):\n",
    "    pass"
   ]
  },
  {
   "cell_type": "code",
   "execution_count": null,
   "metadata": {},
   "outputs": [],
   "source": [
    "new_trip = {'pickup_latitude': 40.64499,\n",
    "'pickup_longitude': -73.78115,\n",
    "'trip_distance': 18.38}\n",
    "\n",
    "nearest_three_neighbors = nearest_neighbors(new_trip, cleaned_trips or [], number = 3)\n",
    "nearest_three_neighbors\n",
    "# [{'distance_from_selected': 0.0004569288784918792,\n",
    "#   'pickup_latitude': 40.64483,\n",
    "#   'pickup_longitude': -73.781578,\n",
    "#   'trip_distance': 7.78},\n",
    "#  {'distance_from_selected': 0.0011292165425673159,\n",
    "#   'pickup_latitude': 40.644657,\n",
    "#   'pickup_longitude': -73.782229,\n",
    "#   'trip_distance': 12.7},\n",
    "#  {'distance_from_selected': 0.0042359798158141185,\n",
    "#   'pickup_latitude': 40.648509,\n",
    "#   'pickup_longitude': -73.783508,\n",
    "#   'trip_distance': 17.3}]"
   ]
  },
  {
   "cell_type": "markdown",
   "metadata": {},
   "source": [
    "Ok great! Now that we can provide a new trip location, and find the distances of the three nearest trips, we can take  calculate an estimate of the trip distance for that new trip location.  \n",
    "\n",
    "We do so simply by calculating the average of it's nearest neighbors."
   ]
  },
  {
   "cell_type": "code",
   "execution_count": null,
   "metadata": {},
   "outputs": [],
   "source": [
    "import statistics\n",
    "def mean_distance(neighbors):\n",
    "    nearest_distances = list(map(lambda neighbor: neighbor['trip_distance'], neighbors))\n",
    "    return round(statistics.mean(nearest_distances), 3)\n",
    "\n",
    "nearest_three_neighbors = nearest_neighbors(new_trip, cleaned_trips or [], number = 3)\n",
    "distance_estimate_of_selected_trip = mean_distance(nearest_three_neighbors) # 12.593\n",
    "distance_estimate_of_selected_trip"
   ]
  },
  {
   "cell_type": "markdown",
   "metadata": {},
   "source": [
    "### Choosing the correct number of neighbors"
   ]
  },
  {
   "cell_type": "markdown",
   "metadata": {},
   "source": [
    "Now, as we know from the last lesson, one tricky element is to determine how many neighbors to choose, our $k$ value,  before calculating the average.  We want to choose our value of $k$ such that it properly matches actual data, and so that it applies to new data.  There are fancy formulas to ensure that we **train** our algorithm so that our formula is optimized for all data, but here let's see different $k$ values manually.  This is the gist of choosing our $k$ value:\n",
    "\n",
    "* If we choose a $k$ value too low, our formula will be too heavily influenced by a single neighbor, whereas if our $k$ value is too high, we will be choosing so many neighbors that our nearest neighbors formula will not be adjust enough according to locations.\n",
    "\n",
    "Ok, let's experiment with this."
   ]
  },
  {
   "cell_type": "markdown",
   "metadata": {},
   "source": [
    "First, let's choose a midtown location, to see what the trip distance would be.  A Google search reveals the coordinates of 51st and 7th avenue to be the following."
   ]
  },
  {
   "cell_type": "code",
   "execution_count": null,
   "metadata": {},
   "outputs": [],
   "source": [
    "midtown_trip = dict(pickup_latitude=40.761710, pickup_longitude=-73.982760)"
   ]
  },
  {
   "cell_type": "code",
   "execution_count": null,
   "metadata": {},
   "outputs": [],
   "source": [
    "seven_closest = nearest_neighbors(midtown_trip, cleaned_trips, number = 7)\n",
    "seven_closest\n",
    "# [{'trip_distance': 0.58,\n",
    "#   'pickup_latitude': 40.761372,\n",
    "#   'pickup_longitude': -73.982602,\n",
    "#   'distance_from_selected': 0.00037310588309379025},\n",
    "#  {'trip_distance': 0.8,\n",
    "#   'pickup_latitude': 40.762444,\n",
    "#   'pickup_longitude': -73.98244,\n",
    "#   'distance_from_selected': 0.00080072217404248},\n",
    "#  {'trip_distance': 1.4,\n",
    "#   'pickup_latitude': 40.762767,\n",
    "#   'pickup_longitude': -73.982293,\n",
    "#   'distance_from_selected': 0.0011555682584735844},\n",
    "#  {'trip_distance': 8.3,\n",
    "#   'pickup_latitude': 40.762868,\n",
    "#   'pickup_longitude': -73.983233,\n",
    "#   'distance_from_selected': 0.0012508768924205918},\n",
    "#  {'trip_distance': 1.26,\n",
    "#   'pickup_latitude': 40.760057,\n",
    "#   'pickup_longitude': -73.983502,\n",
    "#   'distance_from_selected': 0.0018118976240381972},\n",
    "#  {'trip_distance': 0.0,\n",
    "#   'pickup_latitude': 40.760644,\n",
    "#   'pickup_longitude': -73.984531,\n",
    "#   'distance_from_selected': 0.002067074502774709},\n",
    "#  {'trip_distance': 1.72,\n",
    "#   'pickup_latitude': 40.762107,\n",
    "#   'pickup_longitude': -73.98479,\n",
    "#   'distance_from_selected': 0.0020684557041472677}]"
   ]
  },
  {
   "cell_type": "markdown",
   "metadata": {},
   "source": [
    "Looking at the `distance_from_selected` it appears that our our trips are still fairly close to our selected trip.  Notice that most of the data is within a distance of .002 away, so going to the top 7 nearest neighbors didn't seem to give us neighbors too far from each other, which is a good sign.\n",
    "\n",
    "Still, it's hard to know what distance in latitude and longitude really look like, so let's map the data. "
   ]
  },
  {
   "cell_type": "code",
   "execution_count": null,
   "metadata": {},
   "outputs": [],
   "source": [
    "midtown_location = location(midtown_trip) # [40.76171, -73.98276]\n",
    "midtown_map = map_from(midtown_location, 16)\n",
    "closest_markers = markers_from_trips(seven_closest)\n",
    "\n",
    "add_markers(closest_markers, midtown_map)"
   ]
  },
  {
   "cell_type": "markdown",
   "metadata": {},
   "source": [
    "Ok.  These locations stay fairly close to our estimated location of 51st street and 7th Avenue.  So they could be a good estimate of a trip distance."
   ]
  },
  {
   "cell_type": "code",
   "execution_count": null,
   "metadata": {},
   "outputs": [],
   "source": [
    "mean_distance(seven_closest) # 2.009"
   ]
  },
  {
   "cell_type": "markdown",
   "metadata": {},
   "source": [
    "Ok, now let's try a different location"
   ]
  },
  {
   "cell_type": "code",
   "execution_count": null,
   "metadata": {},
   "outputs": [],
   "source": [
    "charging_bull_closest = nearest_neighbors({'pickup_latitude': 40.7049, 'pickup_longitude': -74.0137}, cleaned_trips, number = 12)"
   ]
  },
  {
   "cell_type": "code",
   "execution_count": null,
   "metadata": {
    "scrolled": true
   },
   "outputs": [],
   "source": [
    "mean_distance(charging_bull_closest) # 3.145"
   ]
  },
  {
   "cell_type": "markdown",
   "metadata": {},
   "source": [
    "Ok, so there appears to be a significant difference between choosing a location near Times Square versus choosing a location at Wall Street."
   ]
  },
  {
   "cell_type": "markdown",
   "metadata": {},
   "source": [
    "### Summary"
   ]
  },
  {
   "cell_type": "markdown",
   "metadata": {},
   "source": [
    "In this lab, we used the nearest neighbors function to predict the length of a taxi ride.  To do so, we selected a location, then found a number of taxi rides closest to that location, and finally took the average trip lengths of the nearest taxi rides to find an estimate of the new ride's trip length.  You can see that even with just a little bit of math and programming we can begin to make meaningful predictions with data."
   ]
  }
 ],
 "metadata": {
  "kernelspec": {
   "display_name": "Python 3",
   "language": "python",
   "name": "python3"
  },
  "language_info": {
   "codemirror_mode": {
    "name": "ipython",
    "version": 3
   },
   "file_extension": ".py",
   "mimetype": "text/x-python",
   "name": "python",
   "nbconvert_exporter": "python",
   "pygments_lexer": "ipython3",
   "version": "3.6.9"
  }
 },
 "nbformat": 4,
 "nbformat_minor": 2
}
